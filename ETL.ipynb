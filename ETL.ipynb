{
 "cells": [
  {
   "cell_type": "markdown",
   "metadata": {},
   "source": [
    "# ETL"
   ]
  },
  {
   "cell_type": "markdown",
   "metadata": {},
   "source": [
    "* Importo las librerías que voy a utilizar"
   ]
  },
  {
   "cell_type": "code",
   "execution_count": 2,
   "metadata": {},
   "outputs": [],
   "source": [
    "import pandas as pd\n",
    "import numpy as np \n",
    "import matplotlib.pyplot as plt \n",
    "import openpyxl"
   ]
  },
  {
   "cell_type": "markdown",
   "metadata": {},
   "source": [
    "* Cargo los datos para poder trabajarlos\n"
   ]
  },
  {
   "cell_type": "code",
   "execution_count": 27,
   "metadata": {},
   "outputs": [],
   "source": [
    "homicidios_hechos = pd.read_excel('homicidios.xlsx',\n",
    "                                  sheet_name='HECHOS')\n",
    "homicidios_victimas = pd.read_excel('homicidios.xlsx',\n",
    "                                    sheet_name='VICTIMAS')"
   ]
  },
  {
   "cell_type": "markdown",
   "metadata": {},
   "source": [
    "* Armo dataframes para ver la cantidad de nulos que tengo y qué me aporta cada dataset"
   ]
  },
  {
   "cell_type": "markdown",
   "metadata": {},
   "source": [
    "##### Hechos"
   ]
  },
  {
   "cell_type": "code",
   "execution_count": 28,
   "metadata": {},
   "outputs": [
    {
     "data": {
      "text/html": [
       "<div>\n",
       "<style scoped>\n",
       "    .dataframe tbody tr th:only-of-type {\n",
       "        vertical-align: middle;\n",
       "    }\n",
       "\n",
       "    .dataframe tbody tr th {\n",
       "        vertical-align: top;\n",
       "    }\n",
       "\n",
       "    .dataframe thead th {\n",
       "        text-align: right;\n",
       "    }\n",
       "</style>\n",
       "<table border=\"1\" class=\"dataframe\">\n",
       "  <thead>\n",
       "    <tr style=\"text-align: right;\">\n",
       "      <th></th>\n",
       "      <th>ID</th>\n",
       "      <th>N_VICTIMAS</th>\n",
       "      <th>FECHA</th>\n",
       "      <th>AAAA</th>\n",
       "      <th>MM</th>\n",
       "      <th>DD</th>\n",
       "      <th>HORA</th>\n",
       "      <th>HH</th>\n",
       "      <th>LUGAR_DEL_HECHO</th>\n",
       "      <th>TIPO_DE_CALLE</th>\n",
       "      <th>...</th>\n",
       "      <th>Altura</th>\n",
       "      <th>Cruce</th>\n",
       "      <th>Dirección Normalizada</th>\n",
       "      <th>COMUNA</th>\n",
       "      <th>XY (CABA)</th>\n",
       "      <th>pos x</th>\n",
       "      <th>pos y</th>\n",
       "      <th>PARTICIPANTES</th>\n",
       "      <th>VICTIMA</th>\n",
       "      <th>ACUSADO</th>\n",
       "    </tr>\n",
       "  </thead>\n",
       "  <tbody>\n",
       "    <tr>\n",
       "      <th>0</th>\n",
       "      <td>2016-0001</td>\n",
       "      <td>1</td>\n",
       "      <td>2016-01-01</td>\n",
       "      <td>2016</td>\n",
       "      <td>1</td>\n",
       "      <td>1</td>\n",
       "      <td>04:00:00</td>\n",
       "      <td>4</td>\n",
       "      <td>AV PIEDRA BUENA Y AV FERNANDEZ DE LA CRUZ</td>\n",
       "      <td>AVENIDA</td>\n",
       "      <td>...</td>\n",
       "      <td>NaN</td>\n",
       "      <td>FERNANDEZ DE LA CRUZ, F., GRAL. AV.</td>\n",
       "      <td>PIEDRA BUENA AV. y FERNANDEZ DE LA CRUZ, F., G...</td>\n",
       "      <td>8</td>\n",
       "      <td>Point (98896.78238426 93532.43437792)</td>\n",
       "      <td>-58.47533969</td>\n",
       "      <td>-34.68757022</td>\n",
       "      <td>MOTO-AUTO</td>\n",
       "      <td>MOTO</td>\n",
       "      <td>AUTO</td>\n",
       "    </tr>\n",
       "    <tr>\n",
       "      <th>1</th>\n",
       "      <td>2016-0002</td>\n",
       "      <td>1</td>\n",
       "      <td>2016-01-02</td>\n",
       "      <td>2016</td>\n",
       "      <td>1</td>\n",
       "      <td>2</td>\n",
       "      <td>01:15:00</td>\n",
       "      <td>1</td>\n",
       "      <td>AV GRAL PAZ  Y AV DE LOS CORRALES</td>\n",
       "      <td>GRAL PAZ</td>\n",
       "      <td>...</td>\n",
       "      <td>NaN</td>\n",
       "      <td>DE LOS CORRALES AV.</td>\n",
       "      <td>PAZ, GRAL. AV. y DE LOS CORRALES AV.</td>\n",
       "      <td>9</td>\n",
       "      <td>Point (95832.05571093 95505.41641999)</td>\n",
       "      <td>-58.50877521</td>\n",
       "      <td>-34.66977709</td>\n",
       "      <td>AUTO-PASAJEROS</td>\n",
       "      <td>AUTO</td>\n",
       "      <td>PASAJEROS</td>\n",
       "    </tr>\n",
       "    <tr>\n",
       "      <th>2</th>\n",
       "      <td>2016-0003</td>\n",
       "      <td>1</td>\n",
       "      <td>2016-01-03</td>\n",
       "      <td>2016</td>\n",
       "      <td>1</td>\n",
       "      <td>3</td>\n",
       "      <td>07:00:00</td>\n",
       "      <td>7</td>\n",
       "      <td>AV ENTRE RIOS 2034</td>\n",
       "      <td>AVENIDA</td>\n",
       "      <td>...</td>\n",
       "      <td>2034.0</td>\n",
       "      <td>NaN</td>\n",
       "      <td>ENTRE RIOS AV. 2034</td>\n",
       "      <td>1</td>\n",
       "      <td>Point (106684.29090040 99706.57687843)</td>\n",
       "      <td>-58.39040293</td>\n",
       "      <td>-34.63189362</td>\n",
       "      <td>MOTO-AUTO</td>\n",
       "      <td>MOTO</td>\n",
       "      <td>AUTO</td>\n",
       "    </tr>\n",
       "  </tbody>\n",
       "</table>\n",
       "<p>3 rows × 21 columns</p>\n",
       "</div>"
      ],
      "text/plain": [
       "          ID  N_VICTIMAS      FECHA  AAAA  MM  DD      HORA HH  \\\n",
       "0  2016-0001           1 2016-01-01  2016   1   1  04:00:00  4   \n",
       "1  2016-0002           1 2016-01-02  2016   1   2  01:15:00  1   \n",
       "2  2016-0003           1 2016-01-03  2016   1   3  07:00:00  7   \n",
       "\n",
       "                             LUGAR_DEL_HECHO TIPO_DE_CALLE  ...  Altura  \\\n",
       "0  AV PIEDRA BUENA Y AV FERNANDEZ DE LA CRUZ       AVENIDA  ...     NaN   \n",
       "1          AV GRAL PAZ  Y AV DE LOS CORRALES      GRAL PAZ  ...     NaN   \n",
       "2                         AV ENTRE RIOS 2034       AVENIDA  ...  2034.0   \n",
       "\n",
       "                                 Cruce  \\\n",
       "0  FERNANDEZ DE LA CRUZ, F., GRAL. AV.   \n",
       "1                  DE LOS CORRALES AV.   \n",
       "2                                  NaN   \n",
       "\n",
       "                               Dirección Normalizada COMUNA  \\\n",
       "0  PIEDRA BUENA AV. y FERNANDEZ DE LA CRUZ, F., G...      8   \n",
       "1               PAZ, GRAL. AV. y DE LOS CORRALES AV.      9   \n",
       "2                                ENTRE RIOS AV. 2034      1   \n",
       "\n",
       "                                XY (CABA)         pos x         pos y  \\\n",
       "0   Point (98896.78238426 93532.43437792)  -58.47533969  -34.68757022   \n",
       "1   Point (95832.05571093 95505.41641999)  -58.50877521  -34.66977709   \n",
       "2  Point (106684.29090040 99706.57687843)  -58.39040293  -34.63189362   \n",
       "\n",
       "    PARTICIPANTES VICTIMA    ACUSADO  \n",
       "0       MOTO-AUTO    MOTO       AUTO  \n",
       "1  AUTO-PASAJEROS    AUTO  PASAJEROS  \n",
       "2       MOTO-AUTO    MOTO       AUTO  \n",
       "\n",
       "[3 rows x 21 columns]"
      ]
     },
     "execution_count": 28,
     "metadata": {},
     "output_type": "execute_result"
    }
   ],
   "source": [
    "homicidios_hechos = pd.DataFrame(homicidios_hechos)\n",
    "homicidios_hechos.head(3)"
   ]
  },
  {
   "cell_type": "code",
   "execution_count": 5,
   "metadata": {},
   "outputs": [
    {
     "name": "stdout",
     "output_type": "stream",
     "text": [
      "<class 'pandas.core.frame.DataFrame'>\n",
      "RangeIndex: 696 entries, 0 to 695\n",
      "Data columns (total 21 columns):\n",
      " #   Column                 Non-Null Count  Dtype         \n",
      "---  ------                 --------------  -----         \n",
      " 0   ID                     696 non-null    object        \n",
      " 1   N_VICTIMAS             696 non-null    int64         \n",
      " 2   FECHA                  696 non-null    datetime64[ns]\n",
      " 3   AAAA                   696 non-null    int64         \n",
      " 4   MM                     696 non-null    int64         \n",
      " 5   DD                     696 non-null    int64         \n",
      " 6   HORA                   696 non-null    object        \n",
      " 7   HH                     696 non-null    object        \n",
      " 8   LUGAR_DEL_HECHO        696 non-null    object        \n",
      " 9   TIPO_DE_CALLE          696 non-null    object        \n",
      " 10  Calle                  695 non-null    object        \n",
      " 11  Altura                 129 non-null    float64       \n",
      " 12  Cruce                  525 non-null    object        \n",
      " 13  Dirección Normalizada  688 non-null    object        \n",
      " 14  COMUNA                 696 non-null    int64         \n",
      " 15  XY (CABA)              696 non-null    object        \n",
      " 16  pos x                  696 non-null    object        \n",
      " 17  pos y                  696 non-null    object        \n",
      " 18  PARTICIPANTES          696 non-null    object        \n",
      " 19  VICTIMA                696 non-null    object        \n",
      " 20  ACUSADO                696 non-null    object        \n",
      "dtypes: datetime64[ns](1), float64(1), int64(5), object(14)\n",
      "memory usage: 114.3+ KB\n"
     ]
    }
   ],
   "source": [
    "homicidios_hechos.info()"
   ]
  },
  {
   "cell_type": "markdown",
   "metadata": {},
   "source": [
    "* Al parecer las columas que tienen nulos son: Altura, Cruce, Dirección Normalizada\n"
   ]
  },
  {
   "cell_type": "code",
   "execution_count": 6,
   "metadata": {},
   "outputs": [
    {
     "data": {
      "text/plain": [
       "0         NaN\n",
       "1         NaN\n",
       "2      2034.0\n",
       "3         NaN\n",
       "4         NaN\n",
       "        ...  \n",
       "691       NaN\n",
       "692       NaN\n",
       "693       NaN\n",
       "694    4071.0\n",
       "695     709.0\n",
       "Name: Altura, Length: 696, dtype: float64"
      ]
     },
     "execution_count": 6,
     "metadata": {},
     "output_type": "execute_result"
    }
   ],
   "source": [
    "homicidios_hechos['Altura']"
   ]
  },
  {
   "cell_type": "markdown",
   "metadata": {},
   "source": [
    "* Altura es la altura de la calle o avenida donde se produjo el hecho"
   ]
  },
  {
   "cell_type": "code",
   "execution_count": 7,
   "metadata": {},
   "outputs": [
    {
     "data": {
      "text/plain": [
       "0      FERNANDEZ DE LA CRUZ, F., GRAL. AV.\n",
       "1                      DE LOS CORRALES AV.\n",
       "2                                      NaN\n",
       "3                 VILLEGAS, CONRADO, GRAL.\n",
       "4                  SAENZ PE?A, LUIS, PRES.\n",
       "                      ...                 \n",
       "691                                    MOM\n",
       "692                            LACARRA AV.\n",
       "693                                TERRADA\n",
       "694                                    NaN\n",
       "695                                    NaN\n",
       "Name: Cruce, Length: 696, dtype: object"
      ]
     },
     "execution_count": 7,
     "metadata": {},
     "output_type": "execute_result"
    }
   ],
   "source": [
    "homicidios_hechos['Cruce']"
   ]
  },
  {
   "cell_type": "markdown",
   "metadata": {},
   "source": [
    "* Cruce es la intersección de las dos calles donde hay ocurrido el hecho"
   ]
  },
  {
   "cell_type": "code",
   "execution_count": 8,
   "metadata": {},
   "outputs": [
    {
     "data": {
      "text/plain": [
       "0      PIEDRA BUENA AV. y FERNANDEZ DE LA CRUZ, F., G...\n",
       "1                   PAZ, GRAL. AV. y DE LOS CORRALES AV.\n",
       "2                                    ENTRE RIOS AV. 2034\n",
       "3              LARRAZABAL AV. y VILLEGAS, CONRADO, GRAL.\n",
       "4                SAN JUAN AV. y SAENZ PEÃ‘A, LUIS, PRES.\n",
       "                             ...                        \n",
       "691                                    RIESTRA AV. y MOM\n",
       "692           DELLEPIANE, LUIS, TTE. GRAL. y LACARRA AV.\n",
       "693                                  GAONA AV. y TERRADA\n",
       "694                                  PERON, EVA AV. 4071\n",
       "695                              PADRE CARLOS MUGICA 709\n",
       "Name: Dirección Normalizada, Length: 696, dtype: object"
      ]
     },
     "execution_count": 8,
     "metadata": {},
     "output_type": "execute_result"
    }
   ],
   "source": [
    "homicidios_hechos['Dirección Normalizada']"
   ]
  },
  {
   "cell_type": "markdown",
   "metadata": {},
   "source": [
    "* Es la dirección normalizada en mayúsculas donde ocurrió el hecho\n",
    "* Por el momento decido quedarme solo con las columnas ID, N_VICTIMAS, FECHA, HORA, TIPO DE CALLE, COMUNA, VICTIMA y ACUSADO y eliminar el resto.\n"
   ]
  },
  {
   "cell_type": "code",
   "execution_count": 29,
   "metadata": {},
   "outputs": [
    {
     "name": "stdout",
     "output_type": "stream",
     "text": [
      "<class 'pandas.core.frame.DataFrame'>\n",
      "RangeIndex: 696 entries, 0 to 695\n",
      "Data columns (total 11 columns):\n",
      " #   Column           Non-Null Count  Dtype         \n",
      "---  ------           --------------  -----         \n",
      " 0   ID               696 non-null    object        \n",
      " 1   N_VICTIMAS       696 non-null    int64         \n",
      " 2   FECHA            696 non-null    datetime64[ns]\n",
      " 3   HH               696 non-null    object        \n",
      " 4   LUGAR_DEL_HECHO  696 non-null    object        \n",
      " 5   TIPO_DE_CALLE    696 non-null    object        \n",
      " 6   COMUNA           696 non-null    int64         \n",
      " 7   pos x            696 non-null    object        \n",
      " 8   pos y            696 non-null    object        \n",
      " 9   VICTIMA          696 non-null    object        \n",
      " 10  ACUSADO          696 non-null    object        \n",
      "dtypes: datetime64[ns](1), int64(2), object(8)\n",
      "memory usage: 59.9+ KB\n"
     ]
    }
   ],
   "source": [
    "columnas_a_eliminar = ['AAAA','MM','DD','HORA','Calle','Altura','Cruce','Dirección Normalizada','XY (CABA)', 'PARTICIPANTES']\n",
    "homicidios_hechos.drop(columns=columnas_a_eliminar, inplace=True)\n",
    "homicidios_hechos.info()"
   ]
  },
  {
   "cell_type": "markdown",
   "metadata": {},
   "source": [
    "* Ahora voy a ver cómo se han tratado los datos faltantes en las columnas"
   ]
  },
  {
   "cell_type": "code",
   "execution_count": 35,
   "metadata": {},
   "outputs": [
    {
     "data": {
      "text/plain": [
       "array(['AUTO', 'PASAJEROS', 'SD', 'OBJETO FIJO', 'CARGAS', 'MOTO',\n",
       "       'MULTIPLE', 'OTRO', 'BICICLETA', 'TREN'], dtype=object)"
      ]
     },
     "execution_count": 35,
     "metadata": {},
     "output_type": "execute_result"
    }
   ],
   "source": [
    "homicidios_hechos['ACUSADO'].unique()"
   ]
  },
  {
   "cell_type": "markdown",
   "metadata": {},
   "source": [
    "* En la columna 'COMUNA' hay dos entradas que tienen como valor 0, estas quieren decir que no hay datos sobre ellos, las voy a eliminar"
   ]
  },
  {
   "cell_type": "code",
   "execution_count": 33,
   "metadata": {},
   "outputs": [],
   "source": [
    "homicidios_hechos = homicidios_hechos.drop(homicidios_hechos[homicidios_hechos['COMUNA'] == 0].index)"
   ]
  },
  {
   "cell_type": "markdown",
   "metadata": {},
   "source": [
    "* Voy a contar la cantidad de entradas sin datos en HORA"
   ]
  },
  {
   "cell_type": "code",
   "execution_count": 39,
   "metadata": {},
   "outputs": [
    {
     "data": {
      "text/plain": [
       "1"
      ]
     },
     "execution_count": 39,
     "metadata": {},
     "output_type": "execute_result"
    }
   ],
   "source": [
    "cantidad_SD = (homicidios_hechos['HH'] == 'SD').sum()\n",
    "cantidad_SD"
   ]
  },
  {
   "cell_type": "markdown",
   "metadata": {},
   "source": [
    "* Voy a rellenarlo con la mediana "
   ]
  },
  {
   "cell_type": "code",
   "execution_count": 40,
   "metadata": {},
   "outputs": [
    {
     "data": {
      "text/plain": [
       "0"
      ]
     },
     "execution_count": 40,
     "metadata": {},
     "output_type": "execute_result"
    }
   ],
   "source": [
    "# Calcula la mediana de la columna 'HH' excluyendo los valores 'SD'\n",
    "mediana_HH = homicidios_hechos[homicidios_hechos['HH'] != 'SD']['HH'].median()\n",
    "\n",
    "# Rellena los valores 'SD' con la mediana\n",
    "homicidios_hechos.loc[homicidios_hechos['HH'] == 'SD', 'HH'] = mediana_HH\n",
    "\n",
    "# Ahora los valores 'SD' han sido reemplazados por la mediana\n",
    "cantidad_SD = (homicidios_hechos['HH'] == 'SD').sum()\n",
    "cantidad_SD"
   ]
  },
  {
   "cell_type": "markdown",
   "metadata": {},
   "source": [
    "* Voy a normalizar el tipo de dato donde sea necesario"
   ]
  },
  {
   "cell_type": "code",
   "execution_count": 44,
   "metadata": {},
   "outputs": [],
   "source": [
    "homicidios_hechos['N_VICTIMAS'] = homicidios_hechos['N_VICTIMAS'].astype(int)\n",
    "homicidios_hechos['HH'] = homicidios_hechos['HH'].astype(int)\n",
    "#Por precaución convertiré 'COMUNA' de int64 a int32\n",
    "homicidios_hechos['COMUNA'] = homicidios_hechos['COMUNA'].astype(int)\n",
    "homicidios_hechos = homicidios_hechos[homicidios_hechos['pos x'] != '.']\n",
    "homicidios_hechos['pos x'] = homicidios_hechos['pos x'].astype(float)\n",
    "homicidios_hechos['pos y'] = homicidios_hechos['pos y'].astype(float)"
   ]
  },
  {
   "cell_type": "code",
   "execution_count": 46,
   "metadata": {},
   "outputs": [
    {
     "name": "stdout",
     "output_type": "stream",
     "text": [
      "<class 'pandas.core.frame.DataFrame'>\n",
      "Index: 684 entries, 0 to 695\n",
      "Data columns (total 11 columns):\n",
      " #   Column           Non-Null Count  Dtype         \n",
      "---  ------           --------------  -----         \n",
      " 0   ID               684 non-null    object        \n",
      " 1   N_VICTIMAS       684 non-null    int32         \n",
      " 2   FECHA            684 non-null    datetime64[ns]\n",
      " 3   HH               684 non-null    int32         \n",
      " 4   LUGAR_DEL_HECHO  684 non-null    object        \n",
      " 5   TIPO_DE_CALLE    684 non-null    object        \n",
      " 6   COMUNA           684 non-null    int32         \n",
      " 7   pos x            684 non-null    float64       \n",
      " 8   pos y            684 non-null    float64       \n",
      " 9   VICTIMA          684 non-null    object        \n",
      " 10  ACUSADO          684 non-null    object        \n",
      "dtypes: datetime64[ns](1), float64(2), int32(3), object(5)\n",
      "memory usage: 56.1+ KB\n"
     ]
    }
   ],
   "source": [
    "homicidios_hechos.info()"
   ]
  },
  {
   "cell_type": "markdown",
   "metadata": {},
   "source": [
    "* Voy a guardar este CSV ya listo"
   ]
  },
  {
   "cell_type": "code",
   "execution_count": 48,
   "metadata": {},
   "outputs": [],
   "source": [
    "homicidios_hechos.to_csv('hechos_fatales.csv')"
   ]
  },
  {
   "cell_type": "markdown",
   "metadata": {},
   "source": [
    "##### Victimas"
   ]
  },
  {
   "cell_type": "code",
   "execution_count": 51,
   "metadata": {},
   "outputs": [
    {
     "data": {
      "text/html": [
       "<div>\n",
       "<style scoped>\n",
       "    .dataframe tbody tr th:only-of-type {\n",
       "        vertical-align: middle;\n",
       "    }\n",
       "\n",
       "    .dataframe tbody tr th {\n",
       "        vertical-align: top;\n",
       "    }\n",
       "\n",
       "    .dataframe thead th {\n",
       "        text-align: right;\n",
       "    }\n",
       "</style>\n",
       "<table border=\"1\" class=\"dataframe\">\n",
       "  <thead>\n",
       "    <tr style=\"text-align: right;\">\n",
       "      <th></th>\n",
       "      <th>ID_hecho</th>\n",
       "      <th>FECHA</th>\n",
       "      <th>AAAA</th>\n",
       "      <th>MM</th>\n",
       "      <th>DD</th>\n",
       "      <th>ROL</th>\n",
       "      <th>VICTIMA</th>\n",
       "      <th>SEXO</th>\n",
       "      <th>EDAD</th>\n",
       "      <th>FECHA_FALLECIMIENTO</th>\n",
       "    </tr>\n",
       "  </thead>\n",
       "  <tbody>\n",
       "    <tr>\n",
       "      <th>0</th>\n",
       "      <td>2016-0001</td>\n",
       "      <td>2016-01-01</td>\n",
       "      <td>2016</td>\n",
       "      <td>1</td>\n",
       "      <td>1</td>\n",
       "      <td>CONDUCTOR</td>\n",
       "      <td>MOTO</td>\n",
       "      <td>MASCULINO</td>\n",
       "      <td>19</td>\n",
       "      <td>2016-01-01 00:00:00</td>\n",
       "    </tr>\n",
       "    <tr>\n",
       "      <th>1</th>\n",
       "      <td>2016-0002</td>\n",
       "      <td>2016-01-02</td>\n",
       "      <td>2016</td>\n",
       "      <td>1</td>\n",
       "      <td>2</td>\n",
       "      <td>CONDUCTOR</td>\n",
       "      <td>AUTO</td>\n",
       "      <td>MASCULINO</td>\n",
       "      <td>70</td>\n",
       "      <td>2016-01-02 00:00:00</td>\n",
       "    </tr>\n",
       "    <tr>\n",
       "      <th>2</th>\n",
       "      <td>2016-0003</td>\n",
       "      <td>2016-01-03</td>\n",
       "      <td>2016</td>\n",
       "      <td>1</td>\n",
       "      <td>3</td>\n",
       "      <td>CONDUCTOR</td>\n",
       "      <td>MOTO</td>\n",
       "      <td>MASCULINO</td>\n",
       "      <td>30</td>\n",
       "      <td>2016-01-03 00:00:00</td>\n",
       "    </tr>\n",
       "  </tbody>\n",
       "</table>\n",
       "</div>"
      ],
      "text/plain": [
       "    ID_hecho      FECHA  AAAA  MM  DD        ROL VICTIMA       SEXO EDAD  \\\n",
       "0  2016-0001 2016-01-01  2016   1   1  CONDUCTOR    MOTO  MASCULINO   19   \n",
       "1  2016-0002 2016-01-02  2016   1   2  CONDUCTOR    AUTO  MASCULINO   70   \n",
       "2  2016-0003 2016-01-03  2016   1   3  CONDUCTOR    MOTO  MASCULINO   30   \n",
       "\n",
       "   FECHA_FALLECIMIENTO  \n",
       "0  2016-01-01 00:00:00  \n",
       "1  2016-01-02 00:00:00  \n",
       "2  2016-01-03 00:00:00  "
      ]
     },
     "execution_count": 51,
     "metadata": {},
     "output_type": "execute_result"
    }
   ],
   "source": [
    "victimas_fatales = pd.DataFrame(homicidios_victimas)\n",
    "victimas_fatales.head(3)"
   ]
  },
  {
   "cell_type": "code",
   "execution_count": 52,
   "metadata": {},
   "outputs": [
    {
     "name": "stdout",
     "output_type": "stream",
     "text": [
      "<class 'pandas.core.frame.DataFrame'>\n",
      "RangeIndex: 717 entries, 0 to 716\n",
      "Data columns (total 10 columns):\n",
      " #   Column               Non-Null Count  Dtype         \n",
      "---  ------               --------------  -----         \n",
      " 0   ID_hecho             717 non-null    object        \n",
      " 1   FECHA                717 non-null    datetime64[ns]\n",
      " 2   AAAA                 717 non-null    int64         \n",
      " 3   MM                   717 non-null    int64         \n",
      " 4   DD                   717 non-null    int64         \n",
      " 5   ROL                  717 non-null    object        \n",
      " 6   VICTIMA              717 non-null    object        \n",
      " 7   SEXO                 717 non-null    object        \n",
      " 8   EDAD                 717 non-null    object        \n",
      " 9   FECHA_FALLECIMIENTO  717 non-null    object        \n",
      "dtypes: datetime64[ns](1), int64(3), object(6)\n",
      "memory usage: 56.1+ KB\n"
     ]
    }
   ],
   "source": [
    "victimas_fatales.info()"
   ]
  },
  {
   "cell_type": "markdown",
   "metadata": {},
   "source": [
    "* De aca me puedo quedar con ID_hecho, Fecha, Rol, Victima, Sexo, Edad. Por tanto, elimino el resto"
   ]
  },
  {
   "cell_type": "code",
   "execution_count": 53,
   "metadata": {},
   "outputs": [
    {
     "name": "stdout",
     "output_type": "stream",
     "text": [
      "<class 'pandas.core.frame.DataFrame'>\n",
      "RangeIndex: 717 entries, 0 to 716\n",
      "Data columns (total 6 columns):\n",
      " #   Column    Non-Null Count  Dtype         \n",
      "---  ------    --------------  -----         \n",
      " 0   ID_hecho  717 non-null    object        \n",
      " 1   FECHA     717 non-null    datetime64[ns]\n",
      " 2   ROL       717 non-null    object        \n",
      " 3   VICTIMA   717 non-null    object        \n",
      " 4   SEXO      717 non-null    object        \n",
      " 5   EDAD      717 non-null    object        \n",
      "dtypes: datetime64[ns](1), object(5)\n",
      "memory usage: 33.7+ KB\n"
     ]
    }
   ],
   "source": [
    "columnas_a_eliminar = ['AAAA','MM','DD','FECHA_FALLECIMIENTO']\n",
    "victimas_fatales.drop(columns=columnas_a_eliminar, inplace=True)\n",
    "victimas_fatales.info()"
   ]
  },
  {
   "cell_type": "markdown",
   "metadata": {},
   "source": [
    "* Voy a normalizar el tipo de dato, y cambiar el nombre a algunas columnas "
   ]
  },
  {
   "cell_type": "code",
   "execution_count": 57,
   "metadata": {},
   "outputs": [
    {
     "name": "stdout",
     "output_type": "stream",
     "text": [
      "<class 'pandas.core.frame.DataFrame'>\n",
      "RangeIndex: 717 entries, 0 to 716\n",
      "Data columns (total 6 columns):\n",
      " #   Column            Non-Null Count  Dtype         \n",
      "---  ------            --------------  -----         \n",
      " 0   ID                717 non-null    object        \n",
      " 1   FECHA             717 non-null    datetime64[ns]\n",
      " 2   ROL               717 non-null    object        \n",
      " 3   TIPO_DE_VEHICULO  717 non-null    object        \n",
      " 4   SEXO              717 non-null    object        \n",
      " 5   EDAD              717 non-null    int32         \n",
      "dtypes: datetime64[ns](1), int32(1), object(4)\n",
      "memory usage: 30.9+ KB\n"
     ]
    }
   ],
   "source": [
    "nuevos_nombres = {'ID_hecho':'ID','VICTIMA':'TIPO_DE_VEHICULO'}\n",
    "victimas_fatales = victimas_fatales.rename(columns=nuevos_nombres)\n",
    "victimas_fatales['EDAD'] = victimas_fatales['EDAD'].replace('SD', 0)\n",
    "victimas_fatales['EDAD'] = victimas_fatales['EDAD'].astype(int)\n",
    "victimas_fatales.info()"
   ]
  },
  {
   "cell_type": "markdown",
   "metadata": {},
   "source": [
    "* Voy a guardar este csv"
   ]
  },
  {
   "cell_type": "code",
   "execution_count": 58,
   "metadata": {},
   "outputs": [],
   "source": [
    "victimas_fatales.to_csv('victimas_fatales.csv')"
   ]
  },
  {
   "cell_type": "markdown",
   "metadata": {},
   "source": [
    "##### Lesiones Hechos"
   ]
  },
  {
   "cell_type": "code",
   "execution_count": 117,
   "metadata": {},
   "outputs": [
    {
     "data": {
      "text/html": [
       "<div>\n",
       "<style scoped>\n",
       "    .dataframe tbody tr th:only-of-type {\n",
       "        vertical-align: middle;\n",
       "    }\n",
       "\n",
       "    .dataframe tbody tr th {\n",
       "        vertical-align: top;\n",
       "    }\n",
       "\n",
       "    .dataframe thead th {\n",
       "        text-align: right;\n",
       "    }\n",
       "</style>\n",
       "<table border=\"1\" class=\"dataframe\">\n",
       "  <thead>\n",
       "    <tr style=\"text-align: right;\">\n",
       "      <th></th>\n",
       "      <th>Unnamed: 0</th>\n",
       "      <th>id</th>\n",
       "      <th>n_victimas</th>\n",
       "      <th>aaaa</th>\n",
       "      <th>mm</th>\n",
       "      <th>dd</th>\n",
       "      <th>fecha</th>\n",
       "      <th>hora</th>\n",
       "      <th>franja_hora</th>\n",
       "      <th>direccion_normalizada</th>\n",
       "      <th>...</th>\n",
       "      <th>latutid</th>\n",
       "      <th>victima</th>\n",
       "      <th>acusado</th>\n",
       "      <th>participantes</th>\n",
       "      <th>moto</th>\n",
       "      <th>auto</th>\n",
       "      <th>transporte_publico</th>\n",
       "      <th>camion</th>\n",
       "      <th>ciclista</th>\n",
       "      <th>gravedad</th>\n",
       "    </tr>\n",
       "  </thead>\n",
       "  <tbody>\n",
       "    <tr>\n",
       "      <th>0</th>\n",
       "      <td>0</td>\n",
       "      <td>LC-2019-0000179</td>\n",
       "      <td>1</td>\n",
       "      <td>2019</td>\n",
       "      <td>1</td>\n",
       "      <td>1</td>\n",
       "      <td>2019-01-01 00:00:00</td>\n",
       "      <td>09:00:00</td>\n",
       "      <td>9</td>\n",
       "      <td>SD</td>\n",
       "      <td>...</td>\n",
       "      <td>-34.559658</td>\n",
       "      <td>CICLISTA</td>\n",
       "      <td>SD</td>\n",
       "      <td>CICLISTA-SD</td>\n",
       "      <td>SD</td>\n",
       "      <td>SD</td>\n",
       "      <td>SD</td>\n",
       "      <td>SD</td>\n",
       "      <td>x</td>\n",
       "      <td>SD</td>\n",
       "    </tr>\n",
       "    <tr>\n",
       "      <th>1</th>\n",
       "      <td>1</td>\n",
       "      <td>LC-2019-0000053</td>\n",
       "      <td>1</td>\n",
       "      <td>2019</td>\n",
       "      <td>1</td>\n",
       "      <td>1</td>\n",
       "      <td>2019-01-01 00:00:00</td>\n",
       "      <td>01:55:00</td>\n",
       "      <td>1</td>\n",
       "      <td>SD</td>\n",
       "      <td>...</td>\n",
       "      <td>-34.669125</td>\n",
       "      <td>AUTO</td>\n",
       "      <td>SD</td>\n",
       "      <td>AUTO-SD</td>\n",
       "      <td>SD</td>\n",
       "      <td>x</td>\n",
       "      <td>SD</td>\n",
       "      <td>SD</td>\n",
       "      <td>SD</td>\n",
       "      <td>SD</td>\n",
       "    </tr>\n",
       "    <tr>\n",
       "      <th>2</th>\n",
       "      <td>2</td>\n",
       "      <td>LC-2019-0000063</td>\n",
       "      <td>1</td>\n",
       "      <td>2019</td>\n",
       "      <td>1</td>\n",
       "      <td>1</td>\n",
       "      <td>2019-01-01 00:00:00</td>\n",
       "      <td>02:00:00</td>\n",
       "      <td>2</td>\n",
       "      <td>SD</td>\n",
       "      <td>...</td>\n",
       "      <td>-34.677556</td>\n",
       "      <td>SD</td>\n",
       "      <td>SD</td>\n",
       "      <td>SD-SD</td>\n",
       "      <td>SD</td>\n",
       "      <td>SD</td>\n",
       "      <td>SD</td>\n",
       "      <td>SD</td>\n",
       "      <td>SD</td>\n",
       "      <td>SD</td>\n",
       "    </tr>\n",
       "  </tbody>\n",
       "</table>\n",
       "<p>3 rows × 28 columns</p>\n",
       "</div>"
      ],
      "text/plain": [
       "   Unnamed: 0               id  n_victimas  aaaa  mm  dd                fecha  \\\n",
       "0           0  LC-2019-0000179           1  2019   1   1  2019-01-01 00:00:00   \n",
       "1           1  LC-2019-0000053           1  2019   1   1  2019-01-01 00:00:00   \n",
       "2           2  LC-2019-0000063           1  2019   1   1  2019-01-01 00:00:00   \n",
       "\n",
       "       hora franja_hora direccion_normalizada  ...     latutid   victima  \\\n",
       "0  09:00:00           9                    SD  ...  -34.559658  CICLISTA   \n",
       "1  01:55:00           1                    SD  ...  -34.669125      AUTO   \n",
       "2  02:00:00           2                    SD  ...  -34.677556        SD   \n",
       "\n",
       "  acusado participantes  moto auto transporte_publico camion ciclista gravedad  \n",
       "0      SD   CICLISTA-SD    SD   SD                 SD     SD        x       SD  \n",
       "1      SD       AUTO-SD    SD    x                 SD     SD       SD       SD  \n",
       "2      SD         SD-SD    SD   SD                 SD     SD       SD       SD  \n",
       "\n",
       "[3 rows x 28 columns]"
      ]
     },
     "execution_count": 117,
     "metadata": {},
     "output_type": "execute_result"
    }
   ],
   "source": [
    "lesiones_hechos = pd.DataFrame(pd.read_csv('lesiones.csv')) \n",
    "lesiones_hechos.head(3)"
   ]
  },
  {
   "cell_type": "code",
   "execution_count": 118,
   "metadata": {},
   "outputs": [
    {
     "name": "stdout",
     "output_type": "stream",
     "text": [
      "<class 'pandas.core.frame.DataFrame'>\n",
      "RangeIndex: 23785 entries, 0 to 23784\n",
      "Data columns (total 28 columns):\n",
      " #   Column                 Non-Null Count  Dtype  \n",
      "---  ------                 --------------  -----  \n",
      " 0   Unnamed: 0             23785 non-null  int64  \n",
      " 1   id                     23785 non-null  object \n",
      " 2   n_victimas             23785 non-null  int64  \n",
      " 3   aaaa                   23785 non-null  int64  \n",
      " 4   mm                     23785 non-null  int64  \n",
      " 5   dd                     23785 non-null  int64  \n",
      " 6   fecha                  23785 non-null  object \n",
      " 7   hora                   23785 non-null  object \n",
      " 8   franja_hora            23780 non-null  object \n",
      " 9   direccion_normalizada  23732 non-null  object \n",
      " 10  comuna                 23616 non-null  object \n",
      " 11  tipo_calle             23785 non-null  object \n",
      " 12  otra_direccion         23785 non-null  object \n",
      " 13  calle                  12867 non-null  object \n",
      " 14  altura                 12771 non-null  float64\n",
      " 15  cruce                  9407 non-null   object \n",
      " 16  geocodificacion_CABA   23746 non-null  object \n",
      " 17  longitud               23523 non-null  object \n",
      " 18  latutid                23523 non-null  object \n",
      " 19  victima                23785 non-null  object \n",
      " 20  acusado                23785 non-null  object \n",
      " 21  participantes          23785 non-null  object \n",
      " 22  moto                   23692 non-null  object \n",
      " 23  auto                   23692 non-null  object \n",
      " 24  transporte_publico     23692 non-null  object \n",
      " 25  camion                 23692 non-null  object \n",
      " 26  ciclista               23692 non-null  object \n",
      " 27  gravedad               23785 non-null  object \n",
      "dtypes: float64(1), int64(5), object(22)\n",
      "memory usage: 5.1+ MB\n"
     ]
    }
   ],
   "source": [
    "lesiones_hechos.info()"
   ]
  },
  {
   "cell_type": "markdown",
   "metadata": {},
   "source": [
    "* Voy a eliminar las columnas que no considero relevantes"
   ]
  },
  {
   "cell_type": "code",
   "execution_count": 119,
   "metadata": {},
   "outputs": [
    {
     "name": "stdout",
     "output_type": "stream",
     "text": [
      "<class 'pandas.core.frame.DataFrame'>\n",
      "RangeIndex: 23785 entries, 0 to 23784\n",
      "Data columns (total 17 columns):\n",
      " #   Column              Non-Null Count  Dtype \n",
      "---  ------              --------------  ----- \n",
      " 0   Unnamed: 0          23785 non-null  int64 \n",
      " 1   id                  23785 non-null  object\n",
      " 2   n_victimas          23785 non-null  int64 \n",
      " 3   fecha               23785 non-null  object\n",
      " 4   franja_hora         23780 non-null  object\n",
      " 5   comuna              23616 non-null  object\n",
      " 6   longitud            23523 non-null  object\n",
      " 7   latutid             23523 non-null  object\n",
      " 8   victima             23785 non-null  object\n",
      " 9   acusado             23785 non-null  object\n",
      " 10  participantes       23785 non-null  object\n",
      " 11  moto                23692 non-null  object\n",
      " 12  auto                23692 non-null  object\n",
      " 13  transporte_publico  23692 non-null  object\n",
      " 14  camion              23692 non-null  object\n",
      " 15  ciclista            23692 non-null  object\n",
      " 16  gravedad            23785 non-null  object\n",
      "dtypes: int64(2), object(15)\n",
      "memory usage: 3.1+ MB\n"
     ]
    }
   ],
   "source": [
    "columnas_a_eliminar = ['aaaa','mm','dd','hora','direccion_normalizada','tipo_calle','otra_direccion','calle','altura','cruce','geocodificacion_CABA']\n",
    "lesiones_hechos.drop(columns=columnas_a_eliminar, inplace=True)\n",
    "lesiones_hechos.info()"
   ]
  },
  {
   "cell_type": "markdown",
   "metadata": {},
   "source": [
    "* Evidentemente tengo columnas dummies como moto, auto, transporte publico, camion y ciclistas. Voy a recomponerlas en la columna Victima\n"
   ]
  },
  {
   "cell_type": "code",
   "execution_count": 120,
   "metadata": {},
   "outputs": [
    {
     "data": {
      "text/html": [
       "<div>\n",
       "<style scoped>\n",
       "    .dataframe tbody tr th:only-of-type {\n",
       "        vertical-align: middle;\n",
       "    }\n",
       "\n",
       "    .dataframe tbody tr th {\n",
       "        vertical-align: top;\n",
       "    }\n",
       "\n",
       "    .dataframe thead th {\n",
       "        text-align: right;\n",
       "    }\n",
       "</style>\n",
       "<table border=\"1\" class=\"dataframe\">\n",
       "  <thead>\n",
       "    <tr style=\"text-align: right;\">\n",
       "      <th></th>\n",
       "      <th>Unnamed: 0</th>\n",
       "      <th>id</th>\n",
       "      <th>n_victimas</th>\n",
       "      <th>fecha</th>\n",
       "      <th>franja_hora</th>\n",
       "      <th>comuna</th>\n",
       "      <th>longitud</th>\n",
       "      <th>latutid</th>\n",
       "      <th>victima</th>\n",
       "      <th>acusado</th>\n",
       "      <th>participantes</th>\n",
       "      <th>moto</th>\n",
       "      <th>auto</th>\n",
       "      <th>transporte_publico</th>\n",
       "      <th>camion</th>\n",
       "      <th>ciclista</th>\n",
       "      <th>gravedad</th>\n",
       "    </tr>\n",
       "  </thead>\n",
       "  <tbody>\n",
       "    <tr>\n",
       "      <th>0</th>\n",
       "      <td>0</td>\n",
       "      <td>LC-2019-0000179</td>\n",
       "      <td>1</td>\n",
       "      <td>2019-01-01 00:00:00</td>\n",
       "      <td>9</td>\n",
       "      <td>14</td>\n",
       "      <td>-58.408911</td>\n",
       "      <td>-34.559658</td>\n",
       "      <td>ciclista</td>\n",
       "      <td>SD</td>\n",
       "      <td>CICLISTA-SD</td>\n",
       "      <td>0</td>\n",
       "      <td>0</td>\n",
       "      <td>0</td>\n",
       "      <td>0</td>\n",
       "      <td>1</td>\n",
       "      <td>SD</td>\n",
       "    </tr>\n",
       "    <tr>\n",
       "      <th>1</th>\n",
       "      <td>1</td>\n",
       "      <td>LC-2019-0000053</td>\n",
       "      <td>1</td>\n",
       "      <td>2019-01-01 00:00:00</td>\n",
       "      <td>1</td>\n",
       "      <td>8</td>\n",
       "      <td>-58.44351</td>\n",
       "      <td>-34.669125</td>\n",
       "      <td>auto</td>\n",
       "      <td>SD</td>\n",
       "      <td>AUTO-SD</td>\n",
       "      <td>0</td>\n",
       "      <td>1</td>\n",
       "      <td>0</td>\n",
       "      <td>0</td>\n",
       "      <td>0</td>\n",
       "      <td>SD</td>\n",
       "    </tr>\n",
       "    <tr>\n",
       "      <th>2</th>\n",
       "      <td>2</td>\n",
       "      <td>LC-2019-0000063</td>\n",
       "      <td>1</td>\n",
       "      <td>2019-01-01 00:00:00</td>\n",
       "      <td>2</td>\n",
       "      <td>8</td>\n",
       "      <td>-58.468335</td>\n",
       "      <td>-34.677556</td>\n",
       "      <td>moto</td>\n",
       "      <td>SD</td>\n",
       "      <td>SD-SD</td>\n",
       "      <td>0</td>\n",
       "      <td>0</td>\n",
       "      <td>0</td>\n",
       "      <td>0</td>\n",
       "      <td>0</td>\n",
       "      <td>SD</td>\n",
       "    </tr>\n",
       "    <tr>\n",
       "      <th>3</th>\n",
       "      <td>3</td>\n",
       "      <td>LC-2019-0000079</td>\n",
       "      <td>1</td>\n",
       "      <td>2019-01-01 00:00:00</td>\n",
       "      <td>2</td>\n",
       "      <td>7</td>\n",
       "      <td>-58.437425</td>\n",
       "      <td>-34.647349</td>\n",
       "      <td>moto</td>\n",
       "      <td>SD</td>\n",
       "      <td>PEATON-SD</td>\n",
       "      <td>1</td>\n",
       "      <td>0</td>\n",
       "      <td>0</td>\n",
       "      <td>0</td>\n",
       "      <td>0</td>\n",
       "      <td>SD</td>\n",
       "    </tr>\n",
       "    <tr>\n",
       "      <th>4</th>\n",
       "      <td>4</td>\n",
       "      <td>LC-2019-0000082</td>\n",
       "      <td>4</td>\n",
       "      <td>2019-01-01 00:00:00</td>\n",
       "      <td>4</td>\n",
       "      <td>3</td>\n",
       "      <td>-58.398225</td>\n",
       "      <td>-34.604579</td>\n",
       "      <td>transporte_publico</td>\n",
       "      <td>SD</td>\n",
       "      <td>AUTO-SD</td>\n",
       "      <td>0</td>\n",
       "      <td>0</td>\n",
       "      <td>1</td>\n",
       "      <td>0</td>\n",
       "      <td>0</td>\n",
       "      <td>SD</td>\n",
       "    </tr>\n",
       "  </tbody>\n",
       "</table>\n",
       "</div>"
      ],
      "text/plain": [
       "   Unnamed: 0               id  n_victimas                fecha franja_hora  \\\n",
       "0           0  LC-2019-0000179           1  2019-01-01 00:00:00           9   \n",
       "1           1  LC-2019-0000053           1  2019-01-01 00:00:00           1   \n",
       "2           2  LC-2019-0000063           1  2019-01-01 00:00:00           2   \n",
       "3           3  LC-2019-0000079           1  2019-01-01 00:00:00           2   \n",
       "4           4  LC-2019-0000082           4  2019-01-01 00:00:00           4   \n",
       "\n",
       "  comuna    longitud     latutid             victima acusado participantes  \\\n",
       "0     14  -58.408911  -34.559658            ciclista      SD   CICLISTA-SD   \n",
       "1      8   -58.44351  -34.669125                auto      SD       AUTO-SD   \n",
       "2      8  -58.468335  -34.677556                moto      SD         SD-SD   \n",
       "3      7  -58.437425  -34.647349                moto      SD     PEATON-SD   \n",
       "4      3  -58.398225  -34.604579  transporte_publico      SD       AUTO-SD   \n",
       "\n",
       "   moto  auto  transporte_publico  camion  ciclista gravedad  \n",
       "0     0     0                   0       0         1       SD  \n",
       "1     0     1                   0       0         0       SD  \n",
       "2     0     0                   0       0         0       SD  \n",
       "3     1     0                   0       0         0       SD  \n",
       "4     0     0                   1       0         0       SD  "
      ]
     },
     "execution_count": 120,
     "metadata": {},
     "output_type": "execute_result"
    }
   ],
   "source": [
    "# Reemplazar 'SD' por 0 solo en las columnas dummies específicas\n",
    "dummy_columns = ['moto', 'auto', 'transporte_publico', 'camion', 'ciclista']\n",
    "lesiones_hechos[dummy_columns] = lesiones_hechos[dummy_columns].replace({'SD': 0})\n",
    "\n",
    "# Convertir 'x' a 1 solo en las columnas dummies específicas\n",
    "lesiones_hechos[dummy_columns] = lesiones_hechos[dummy_columns].replace({'x': 1})\n",
    "\n",
    "# Llenar valores NaN con 0\n",
    "lesiones_hechos.fillna(0, inplace=True)\n",
    "\n",
    "# Convertir las columnas dummies específicas a tipo de datos numéricos\n",
    "lesiones_hechos[dummy_columns] = lesiones_hechos[dummy_columns].astype(int)\n",
    "\n",
    "# Recomponer la columna 'victima' utilizando idxmax\n",
    "lesiones_hechos['victima'] = lesiones_hechos[dummy_columns].idxmax(axis=1)\n",
    "\n",
    "lesiones_hechos.head()\n"
   ]
  },
  {
   "cell_type": "markdown",
   "metadata": {},
   "source": [
    "* Ahora elimino las columnas dummies que me sobran, la de acusado y participantes"
   ]
  },
  {
   "cell_type": "code",
   "execution_count": 121,
   "metadata": {},
   "outputs": [
    {
     "name": "stdout",
     "output_type": "stream",
     "text": [
      "<class 'pandas.core.frame.DataFrame'>\n",
      "RangeIndex: 23785 entries, 0 to 23784\n",
      "Data columns (total 9 columns):\n",
      " #   Column       Non-Null Count  Dtype \n",
      "---  ------       --------------  ----- \n",
      " 0   id           23785 non-null  object\n",
      " 1   n_victimas   23785 non-null  int64 \n",
      " 2   fecha        23785 non-null  object\n",
      " 3   franja_hora  23785 non-null  object\n",
      " 4   comuna       23785 non-null  object\n",
      " 5   longitud     23785 non-null  object\n",
      " 6   latutid      23785 non-null  object\n",
      " 7   victima      23785 non-null  object\n",
      " 8   gravedad     23785 non-null  object\n",
      "dtypes: int64(1), object(8)\n",
      "memory usage: 1.6+ MB\n"
     ]
    }
   ],
   "source": [
    "columnas_a_eliminar = ['moto', 'auto', 'transporte_publico', 'camion', 'ciclista','acusado','participantes','Unnamed: 0']\n",
    "lesiones_hechos.drop(columns=columnas_a_eliminar,inplace=True)\n",
    "lesiones_hechos.info()"
   ]
  },
  {
   "cell_type": "markdown",
   "metadata": {},
   "source": [
    "* Voy a investigar un poco sobre Gravedad"
   ]
  },
  {
   "cell_type": "code",
   "execution_count": 122,
   "metadata": {},
   "outputs": [
    {
     "data": {
      "text/plain": [
       "array(['SD', 'GRAVE', 'sd', 'FATAL', 'grave'], dtype=object)"
      ]
     },
     "execution_count": 122,
     "metadata": {},
     "output_type": "execute_result"
    }
   ],
   "source": [
    "gravedad = lesiones_hechos['gravedad'].unique()\n",
    "gravedad"
   ]
  },
  {
   "cell_type": "markdown",
   "metadata": {},
   "source": [
    "* Primero voy a normalizar los str a mayúsculas"
   ]
  },
  {
   "cell_type": "code",
   "execution_count": 123,
   "metadata": {},
   "outputs": [],
   "source": [
    "lesiones_hechos['gravedad'] = lesiones_hechos['gravedad'].str.upper()"
   ]
  },
  {
   "cell_type": "markdown",
   "metadata": {},
   "source": [
    "* Voy a asumir que los SD fueron lesiones leves, por lo que voy a reemplazarlos\n"
   ]
  },
  {
   "cell_type": "code",
   "execution_count": 124,
   "metadata": {},
   "outputs": [
    {
     "data": {
      "text/plain": [
       "array(['LEVE', 'GRAVE', 'FATAL'], dtype=object)"
      ]
     },
     "execution_count": 124,
     "metadata": {},
     "output_type": "execute_result"
    }
   ],
   "source": [
    "lesiones_hechos['gravedad'] = lesiones_hechos['gravedad'].replace('SD', 'LEVE')\n",
    "gravedad = lesiones_hechos['gravedad'].unique()\n",
    "\n",
    "gravedad\n"
   ]
  },
  {
   "cell_type": "markdown",
   "metadata": {},
   "source": [
    "* Averiguo sobre COMUNAS"
   ]
  },
  {
   "cell_type": "code",
   "execution_count": 125,
   "metadata": {},
   "outputs": [
    {
     "data": {
      "text/plain": [
       "array(['14', '8', '7', '3', '15', '11', '9', '1', '4', '12', '2', '5',\n",
       "       '6', '13', '10', 'No Especificada', 0, 'SD'], dtype=object)"
      ]
     },
     "execution_count": 125,
     "metadata": {},
     "output_type": "execute_result"
    }
   ],
   "source": [
    "comunas = lesiones_hechos['comuna'].unique()\n",
    "comunas"
   ]
  },
  {
   "cell_type": "markdown",
   "metadata": {},
   "source": [
    "* Tengo 'No Especificada' y 'SD' que son str, voy a convertirlas en 0 para poder eliminarlas o convertirlas en str"
   ]
  },
  {
   "cell_type": "code",
   "execution_count": 126,
   "metadata": {},
   "outputs": [],
   "source": [
    "lesiones_hechos['comuna'] = lesiones_hechos['comuna'].replace(['No Especificada', 'SD'], 0)\n"
   ]
  },
  {
   "cell_type": "markdown",
   "metadata": {},
   "source": [
    "* Voy a averiguar si son relevantes"
   ]
  },
  {
   "cell_type": "code",
   "execution_count": 127,
   "metadata": {},
   "outputs": [
    {
     "name": "stdout",
     "output_type": "stream",
     "text": [
      "El porcentaje de comuna igual a 0 respecto al total de comunas es: 6.13%\n"
     ]
    }
   ],
   "source": [
    "# Contar la cantidad de veces que aparece cada valor en la columna 'comuna'\n",
    "conteo_comunas = lesiones_hechos['comuna'].value_counts()\n",
    "\n",
    "# Obtener el número de veces que aparece el valor 0 en la columna 'comuna'\n",
    "comuna_cero = conteo_comunas.get(0, 0)\n",
    "\n",
    "# Calcular el porcentaje de comuna igual a 0 con respecto al total de comunas\n",
    "porcentaje_comuna_cero = (comuna_cero / len(lesiones_hechos)) * 100\n",
    "\n",
    "print(f\"El porcentaje de comuna igual a 0 respecto al total de comunas es: {porcentaje_comuna_cero:.2f}%\")\n"
   ]
  },
  {
   "cell_type": "markdown",
   "metadata": {},
   "source": [
    "* No las considero relevantes, las voy a eliminar"
   ]
  },
  {
   "cell_type": "code",
   "execution_count": 133,
   "metadata": {},
   "outputs": [
    {
     "name": "stdout",
     "output_type": "stream",
     "text": [
      "<class 'pandas.core.frame.DataFrame'>\n",
      "Index: 22328 entries, 0 to 23783\n",
      "Data columns (total 9 columns):\n",
      " #   Column       Non-Null Count  Dtype \n",
      "---  ------       --------------  ----- \n",
      " 0   id           22328 non-null  object\n",
      " 1   n_victimas   22328 non-null  int64 \n",
      " 2   fecha        22328 non-null  object\n",
      " 3   franja_hora  22328 non-null  object\n",
      " 4   comuna       22328 non-null  object\n",
      " 5   longitud     22328 non-null  object\n",
      " 6   latutid      22328 non-null  object\n",
      " 7   victima      22328 non-null  object\n",
      " 8   gravedad     22328 non-null  object\n",
      "dtypes: int64(1), object(8)\n",
      "memory usage: 1.7+ MB\n"
     ]
    }
   ],
   "source": [
    "# Crear una máscara booleana para identificar las filas donde comuna = 0\n",
    "mask = (lesiones_hechos['comuna'] == 0)\n",
    "\n",
    "# Eliminar las filas que cumplen con la condición directamente en el DataFrame original\n",
    "lesiones_hechos.drop(lesiones_hechos[mask].index, inplace=True)\n",
    "\n",
    "# Mostrar el DataFrame actualizado\n",
    "lesiones_hechos.info()\n",
    "\n"
   ]
  },
  {
   "cell_type": "markdown",
   "metadata": {},
   "source": [
    "* Ahora voy a cambiar los tipos de dato a unos más apropiados"
   ]
  },
  {
   "cell_type": "code",
   "execution_count": 140,
   "metadata": {},
   "outputs": [
    {
     "name": "stdout",
     "output_type": "stream",
     "text": [
      "<class 'pandas.core.frame.DataFrame'>\n",
      "Index: 22328 entries, 0 to 23783\n",
      "Data columns (total 9 columns):\n",
      " #   Column      Non-Null Count  Dtype         \n",
      "---  ------      --------------  -----         \n",
      " 0   id          22328 non-null  object        \n",
      " 1   n_victimas  22328 non-null  int32         \n",
      " 2   fecha       22328 non-null  datetime64[ns]\n",
      " 3   hora        22328 non-null  int32         \n",
      " 4   comuna      22328 non-null  object        \n",
      " 5   longitud    22238 non-null  float64       \n",
      " 6   latitud     22238 non-null  float64       \n",
      " 7   victima     22328 non-null  object        \n",
      " 8   gravedad    22328 non-null  object        \n",
      "dtypes: datetime64[ns](1), float64(2), int32(2), object(4)\n",
      "memory usage: 1.5+ MB\n"
     ]
    }
   ],
   "source": [
    "lesiones_hechos['n_victimas'] = lesiones_hechos['n_victimas'].astype(int)\n",
    "lesiones_hechos['fecha'] = pd.to_datetime(lesiones_hechos['fecha'])\n",
    "lesiones_hechos['franja_hora'] = lesiones_hechos['franja_hora'].astype(int)\n",
    "lesiones_hechos['longitud'] = pd.to_numeric(lesiones_hechos['longitud'], errors='coerce')\n",
    "lesiones_hechos['latutid'] = pd.to_numeric(lesiones_hechos['latutid'], errors='coerce')\n",
    "lesiones_hechos.info()\n"
   ]
  },
  {
   "cell_type": "markdown",
   "metadata": {},
   "source": [
    "* Voy a cambiar los nombres de las columnas latutid a latitud y franja_hora a hora"
   ]
  },
  {
   "cell_type": "code",
   "execution_count": 138,
   "metadata": {},
   "outputs": [
    {
     "name": "stdout",
     "output_type": "stream",
     "text": [
      "<class 'pandas.core.frame.DataFrame'>\n",
      "Index: 22328 entries, 0 to 23783\n",
      "Data columns (total 9 columns):\n",
      " #   Column      Non-Null Count  Dtype         \n",
      "---  ------      --------------  -----         \n",
      " 0   id          22328 non-null  object        \n",
      " 1   n_victimas  22328 non-null  int64         \n",
      " 2   fecha       22328 non-null  datetime64[ns]\n",
      " 3   hora        22328 non-null  int32         \n",
      " 4   comuna      22328 non-null  object        \n",
      " 5   longitud    22238 non-null  float64       \n",
      " 6   latitud     22238 non-null  float64       \n",
      " 7   victima     22328 non-null  object        \n",
      " 8   gravedad    22328 non-null  object        \n",
      "dtypes: datetime64[ns](1), float64(2), int32(1), int64(1), object(4)\n",
      "memory usage: 1.6+ MB\n"
     ]
    }
   ],
   "source": [
    "lesiones_hechos = lesiones_hechos.rename(columns={'latutid': 'latitud', 'franja_hora': 'hora'})\n",
    "lesiones_hechos.info()"
   ]
  },
  {
   "cell_type": "markdown",
   "metadata": {},
   "source": [
    "* Guardo este csv "
   ]
  },
  {
   "cell_type": "code",
   "execution_count": 139,
   "metadata": {},
   "outputs": [],
   "source": [
    "#lesiones_hechos.to_csv('lesiones_hechos.csv')"
   ]
  },
  {
   "cell_type": "markdown",
   "metadata": {},
   "source": [
    "##### Lesiones Victimas"
   ]
  },
  {
   "cell_type": "markdown",
   "metadata": {},
   "source": [
    "* Importo el xlsx para poder tratarlo "
   ]
  },
  {
   "cell_type": "code",
   "execution_count": 141,
   "metadata": {},
   "outputs": [
    {
     "data": {
      "text/html": [
       "<div>\n",
       "<style scoped>\n",
       "    .dataframe tbody tr th:only-of-type {\n",
       "        vertical-align: middle;\n",
       "    }\n",
       "\n",
       "    .dataframe tbody tr th {\n",
       "        vertical-align: top;\n",
       "    }\n",
       "\n",
       "    .dataframe thead th {\n",
       "        text-align: right;\n",
       "    }\n",
       "</style>\n",
       "<table border=\"1\" class=\"dataframe\">\n",
       "  <thead>\n",
       "    <tr style=\"text-align: right;\">\n",
       "      <th></th>\n",
       "      <th>ID hecho</th>\n",
       "      <th>AAA</th>\n",
       "      <th>MM</th>\n",
       "      <th>DD</th>\n",
       "      <th>FECHA</th>\n",
       "      <th>VEHICULO_VICTIMA</th>\n",
       "      <th>SEXO</th>\n",
       "      <th>EDAD_VICTIMA</th>\n",
       "      <th>GRAVEDAD</th>\n",
       "    </tr>\n",
       "  </thead>\n",
       "  <tbody>\n",
       "    <tr>\n",
       "      <th>0</th>\n",
       "      <td>LC-2019-0000053</td>\n",
       "      <td>2019</td>\n",
       "      <td>1</td>\n",
       "      <td>1</td>\n",
       "      <td>2019-01-01</td>\n",
       "      <td>sd</td>\n",
       "      <td>Varon</td>\n",
       "      <td>57</td>\n",
       "      <td>SD</td>\n",
       "    </tr>\n",
       "    <tr>\n",
       "      <th>1</th>\n",
       "      <td>LC-2019-0000063</td>\n",
       "      <td>2019</td>\n",
       "      <td>1</td>\n",
       "      <td>1</td>\n",
       "      <td>2019-01-01</td>\n",
       "      <td>sd</td>\n",
       "      <td>SD</td>\n",
       "      <td>SD</td>\n",
       "      <td>SD</td>\n",
       "    </tr>\n",
       "    <tr>\n",
       "      <th>2</th>\n",
       "      <td>LC-2019-0000079</td>\n",
       "      <td>2019</td>\n",
       "      <td>1</td>\n",
       "      <td>1</td>\n",
       "      <td>2019-01-01</td>\n",
       "      <td>sd</td>\n",
       "      <td>Varon</td>\n",
       "      <td>SD</td>\n",
       "      <td>SD</td>\n",
       "    </tr>\n",
       "  </tbody>\n",
       "</table>\n",
       "</div>"
      ],
      "text/plain": [
       "          ID hecho   AAA  MM  DD     FECHA  VEHICULO_VICTIMA   SEXO  \\\n",
       "0  LC-2019-0000053  2019   1   1 2019-01-01               sd  Varon   \n",
       "1  LC-2019-0000063  2019   1   1 2019-01-01               sd     SD   \n",
       "2  LC-2019-0000079  2019   1   1 2019-01-01               sd  Varon   \n",
       "\n",
       "  EDAD_VICTIMA GRAVEDAD  \n",
       "0           57       SD  \n",
       "1           SD       SD  \n",
       "2           SD       SD  "
      ]
     },
     "execution_count": 141,
     "metadata": {},
     "output_type": "execute_result"
    }
   ],
   "source": [
    "lesiones_victimas = pd.DataFrame(pd.read_excel('lesiones.xlsx', sheet_name='VICTIMAS'))\n",
    "lesiones_victimas.head(3)"
   ]
  },
  {
   "cell_type": "markdown",
   "metadata": {},
   "source": [
    "* De aqui solo me sirve el Id, la fecha, el sexo y la edad, el resto de columnas las voy a eliminar \n"
   ]
  },
  {
   "cell_type": "code",
   "execution_count": 144,
   "metadata": {},
   "outputs": [
    {
     "name": "stdout",
     "output_type": "stream",
     "text": [
      "<class 'pandas.core.frame.DataFrame'>\n",
      "RangeIndex: 27605 entries, 0 to 27604\n",
      "Data columns (total 4 columns):\n",
      " #   Column        Non-Null Count  Dtype         \n",
      "---  ------        --------------  -----         \n",
      " 0   ID hecho      27605 non-null  object        \n",
      " 1   FECHA         27605 non-null  datetime64[ns]\n",
      " 2   SEXO          27605 non-null  object        \n",
      " 3   EDAD_VICTIMA  27605 non-null  object        \n",
      "dtypes: datetime64[ns](1), object(3)\n",
      "memory usage: 862.8+ KB\n"
     ]
    }
   ],
   "source": [
    "columnas_a_eliminar = ['AAA','MM','DD','VEHICULO_VICTIMA','GRAVEDAD']\n",
    "lesiones_victimas.drop(columns=columnas_a_eliminar, inplace=True)\n",
    "lesiones_victimas.info()"
   ]
  },
  {
   "cell_type": "markdown",
   "metadata": {},
   "source": [
    "* Voy a rellenar los datos de la edad con la mediana y convertilo a int"
   ]
  },
  {
   "cell_type": "code",
   "execution_count": 149,
   "metadata": {},
   "outputs": [
    {
     "data": {
      "text/plain": [
       "array([ 57.,  nan,  45.,  27.,  32.,  21.,  37.,  33.,  25.,  23.,  42.,\n",
       "        53.,   1.,  62.,  67.,  75.,  40.,  48.,   3.,  49.,  34.,  52.,\n",
       "        44.,  28.,  59.,  50.,  73.,  26.,  51.,  16.,  43.,  38.,  64.,\n",
       "        36.,  84.,  22.,  20.,   5.,  39.,  56.,  69.,  55.,  46.,  29.,\n",
       "        41.,  54.,  74.,  70.,   6.,  30.,  12.,  83.,  24.,  35.,  68.,\n",
       "        15.,  31.,  19.,   9.,   2.,  13.,  18.,  17.,  58.,  60.,  47.,\n",
       "         7.,  63.,  66.,  80.,  65.,  71.,  79.,  85.,  61.,  77.,  90.,\n",
       "        76.,  89.,  78.,  91.,  97.,  10.,  72.,  88.,  11.,  81.,   8.,\n",
       "        14.,  96.,  82.,  87.,  86.,   4.,  92.,  94.,   0., 100.,  93.,\n",
       "        95.])"
      ]
     },
     "execution_count": 149,
     "metadata": {},
     "output_type": "execute_result"
    }
   ],
   "source": [
    "#Primero averiguo que datos tengo \n",
    "edades = lesiones_victimas['EDAD_VICTIMA'].unique()\n",
    "edades\n"
   ]
  },
  {
   "cell_type": "markdown",
   "metadata": {},
   "source": [
    "* Veo que hay un valor 'nan' que no corresponde. Lo reemplazo"
   ]
  },
  {
   "cell_type": "code",
   "execution_count": 150,
   "metadata": {},
   "outputs": [],
   "source": [
    "lesiones_victimas['EDAD_VICTIMA'].replace('nan', np.nan, inplace=True)"
   ]
  },
  {
   "cell_type": "markdown",
   "metadata": {},
   "source": [
    "* Ahora si relleno y modifico el tipo de dato "
   ]
  },
  {
   "cell_type": "code",
   "execution_count": 151,
   "metadata": {},
   "outputs": [
    {
     "name": "stdout",
     "output_type": "stream",
     "text": [
      "<class 'pandas.core.frame.DataFrame'>\n",
      "RangeIndex: 27605 entries, 0 to 27604\n",
      "Data columns (total 4 columns):\n",
      " #   Column        Non-Null Count  Dtype         \n",
      "---  ------        --------------  -----         \n",
      " 0   ID hecho      27605 non-null  object        \n",
      " 1   FECHA         27605 non-null  datetime64[ns]\n",
      " 2   SEXO          27605 non-null  object        \n",
      " 3   EDAD_VICTIMA  27605 non-null  int32         \n",
      "dtypes: datetime64[ns](1), int32(1), object(2)\n",
      "memory usage: 754.9+ KB\n"
     ]
    }
   ],
   "source": [
    "# Rellenar los valores NaN con la mediana de la columna\n",
    "lesiones_victimas['EDAD_VICTIMA'].fillna(lesiones_victimas['EDAD_VICTIMA'].median(), inplace=True)\n",
    "\n",
    "# Cambiar el tipo de dato de la columna a int\n",
    "lesiones_victimas['EDAD_VICTIMA'] = lesiones_victimas['EDAD_VICTIMA'].astype(int)\n",
    "\n",
    "# Verificar los tipos de datos después del cambio\n",
    "lesiones_victimas.info()\n"
   ]
  },
  {
   "cell_type": "markdown",
   "metadata": {},
   "source": [
    "* Guardo este df como csv"
   ]
  },
  {
   "cell_type": "code",
   "execution_count": 152,
   "metadata": {},
   "outputs": [],
   "source": [
    "#lesiones_victimas.to_csv('lesiones_victimas.csv')"
   ]
  }
 ],
 "metadata": {
  "kernelspec": {
   "display_name": ".venv",
   "language": "python",
   "name": "python3"
  },
  "language_info": {
   "codemirror_mode": {
    "name": "ipython",
    "version": 3
   },
   "file_extension": ".py",
   "mimetype": "text/x-python",
   "name": "python",
   "nbconvert_exporter": "python",
   "pygments_lexer": "ipython3",
   "version": "3.11.0"
  }
 },
 "nbformat": 4,
 "nbformat_minor": 2
}
