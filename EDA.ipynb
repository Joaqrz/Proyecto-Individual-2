{
 "cells": [
  {
   "cell_type": "markdown",
   "metadata": {},
   "source": [
    "# EDA "
   ]
  },
  {
   "cell_type": "code",
   "execution_count": 3,
   "metadata": {},
   "outputs": [],
   "source": [
    "import pandas as pd\n",
    "import numpy as np\n",
    "import matplotlib.pyplot as plt\n",
    "import openpyxl \n"
   ]
  },
  {
   "cell_type": "code",
   "execution_count": 4,
   "metadata": {},
   "outputs": [],
   "source": [
    "hechos_fatales = pd.DataFrame(pd.read_csv('hechos_fatales.csv'))\n",
    "victimas_fatales = pd.DataFrame(pd.read_csv('victimas_fatales.csv'))\n",
    "lesiones_hechos = pd.DataFrame(pd.read_csv('lesiones_hechos.csv'))\n",
    "lesiones_victimas = pd.DataFrame(pd.read_csv('lesiones_victimas.csv'))"
   ]
  },
  {
   "cell_type": "markdown",
   "metadata": {},
   "source": [
    "#  Homicidios"
   ]
  },
  {
   "cell_type": "markdown",
   "metadata": {},
   "source": [
    "* Veo qué tipos de datos tiene cada data frame y cuántos nulos hay en cada uno "
   ]
  },
  {
   "cell_type": "code",
   "execution_count": 4,
   "metadata": {},
   "outputs": [
    {
     "name": "stdout",
     "output_type": "stream",
     "text": [
      "<class 'pandas.core.frame.DataFrame'>\n",
      "RangeIndex: 684 entries, 0 to 683\n",
      "Data columns (total 12 columns):\n",
      " #   Column           Non-Null Count  Dtype  \n",
      "---  ------           --------------  -----  \n",
      " 0   Unnamed: 0       684 non-null    int64  \n",
      " 1   ID               684 non-null    object \n",
      " 2   N_VICTIMAS       684 non-null    int64  \n",
      " 3   FECHA            684 non-null    object \n",
      " 4   HH               684 non-null    int64  \n",
      " 5   LUGAR_DEL_HECHO  684 non-null    object \n",
      " 6   TIPO_DE_CALLE    684 non-null    object \n",
      " 7   COMUNA           684 non-null    int64  \n",
      " 8   pos x            684 non-null    float64\n",
      " 9   pos y            684 non-null    float64\n",
      " 10  VICTIMA          684 non-null    object \n",
      " 11  ACUSADO          684 non-null    object \n",
      "dtypes: float64(2), int64(4), object(6)\n",
      "memory usage: 64.2+ KB\n"
     ]
    }
   ],
   "source": [
    "hechos_fatales.info()"
   ]
  },
  {
   "cell_type": "code",
   "execution_count": 5,
   "metadata": {},
   "outputs": [
    {
     "name": "stdout",
     "output_type": "stream",
     "text": [
      "<class 'pandas.core.frame.DataFrame'>\n",
      "RangeIndex: 717 entries, 0 to 716\n",
      "Data columns (total 7 columns):\n",
      " #   Column            Non-Null Count  Dtype \n",
      "---  ------            --------------  ----- \n",
      " 0   Unnamed: 0        717 non-null    int64 \n",
      " 1   ID                717 non-null    object\n",
      " 2   FECHA             717 non-null    object\n",
      " 3   ROL               717 non-null    object\n",
      " 4   TIPO_DE_VEHICULO  717 non-null    object\n",
      " 5   SEXO              717 non-null    object\n",
      " 6   EDAD              717 non-null    int64 \n",
      "dtypes: int64(2), object(5)\n",
      "memory usage: 39.3+ KB\n"
     ]
    }
   ],
   "source": [
    "victimas_fatales.info()"
   ]
  },
  {
   "cell_type": "code",
   "execution_count": 6,
   "metadata": {},
   "outputs": [
    {
     "name": "stdout",
     "output_type": "stream",
     "text": [
      "<class 'pandas.core.frame.DataFrame'>\n",
      "RangeIndex: 22328 entries, 0 to 22327\n",
      "Data columns (total 10 columns):\n",
      " #   Column      Non-Null Count  Dtype  \n",
      "---  ------      --------------  -----  \n",
      " 0   Unnamed: 0  22328 non-null  int64  \n",
      " 1   id          22328 non-null  object \n",
      " 2   n_victimas  22328 non-null  int64  \n",
      " 3   fecha       22328 non-null  object \n",
      " 4   hora        22328 non-null  int64  \n",
      " 5   comuna      22328 non-null  int64  \n",
      " 6   longitud    22238 non-null  float64\n",
      " 7   latitud     22238 non-null  float64\n",
      " 8   victima     22328 non-null  object \n",
      " 9   gravedad    22328 non-null  object \n",
      "dtypes: float64(2), int64(4), object(4)\n",
      "memory usage: 1.7+ MB\n"
     ]
    }
   ],
   "source": [
    "lesiones_hechos.info()"
   ]
  },
  {
   "cell_type": "code",
   "execution_count": 7,
   "metadata": {},
   "outputs": [
    {
     "name": "stdout",
     "output_type": "stream",
     "text": [
      "<class 'pandas.core.frame.DataFrame'>\n",
      "RangeIndex: 27605 entries, 0 to 27604\n",
      "Data columns (total 5 columns):\n",
      " #   Column        Non-Null Count  Dtype \n",
      "---  ------        --------------  ----- \n",
      " 0   Unnamed: 0    27605 non-null  int64 \n",
      " 1   ID hecho      27605 non-null  object\n",
      " 2   FECHA         27605 non-null  object\n",
      " 3   SEXO          27605 non-null  object\n",
      " 4   EDAD_VICTIMA  27605 non-null  int64 \n",
      "dtypes: int64(2), object(3)\n",
      "memory usage: 1.1+ MB\n"
     ]
    }
   ],
   "source": [
    "lesiones_victimas.info()"
   ]
  },
  {
   "cell_type": "markdown",
   "metadata": {},
   "source": [
    "* Ahora voy a revisar qué datos tiene cada dataframe \n"
   ]
  },
  {
   "cell_type": "code",
   "execution_count": 8,
   "metadata": {},
   "outputs": [
    {
     "data": {
      "text/html": [
       "<div>\n",
       "<style scoped>\n",
       "    .dataframe tbody tr th:only-of-type {\n",
       "        vertical-align: middle;\n",
       "    }\n",
       "\n",
       "    .dataframe tbody tr th {\n",
       "        vertical-align: top;\n",
       "    }\n",
       "\n",
       "    .dataframe thead th {\n",
       "        text-align: right;\n",
       "    }\n",
       "</style>\n",
       "<table border=\"1\" class=\"dataframe\">\n",
       "  <thead>\n",
       "    <tr style=\"text-align: right;\">\n",
       "      <th></th>\n",
       "      <th>Unnamed: 0</th>\n",
       "      <th>ID</th>\n",
       "      <th>N_VICTIMAS</th>\n",
       "      <th>FECHA</th>\n",
       "      <th>HH</th>\n",
       "      <th>LUGAR_DEL_HECHO</th>\n",
       "      <th>TIPO_DE_CALLE</th>\n",
       "      <th>COMUNA</th>\n",
       "      <th>pos x</th>\n",
       "      <th>pos y</th>\n",
       "      <th>VICTIMA</th>\n",
       "      <th>ACUSADO</th>\n",
       "    </tr>\n",
       "  </thead>\n",
       "  <tbody>\n",
       "    <tr>\n",
       "      <th>0</th>\n",
       "      <td>0</td>\n",
       "      <td>2016-0001</td>\n",
       "      <td>1</td>\n",
       "      <td>2016-01-01</td>\n",
       "      <td>4</td>\n",
       "      <td>AV PIEDRA BUENA Y AV FERNANDEZ DE LA CRUZ</td>\n",
       "      <td>AVENIDA</td>\n",
       "      <td>8</td>\n",
       "      <td>-58.475340</td>\n",
       "      <td>-34.687570</td>\n",
       "      <td>MOTO</td>\n",
       "      <td>AUTO</td>\n",
       "    </tr>\n",
       "    <tr>\n",
       "      <th>1</th>\n",
       "      <td>1</td>\n",
       "      <td>2016-0002</td>\n",
       "      <td>1</td>\n",
       "      <td>2016-01-02</td>\n",
       "      <td>1</td>\n",
       "      <td>AV GRAL PAZ  Y AV DE LOS CORRALES</td>\n",
       "      <td>GRAL PAZ</td>\n",
       "      <td>9</td>\n",
       "      <td>-58.508775</td>\n",
       "      <td>-34.669777</td>\n",
       "      <td>AUTO</td>\n",
       "      <td>PASAJEROS</td>\n",
       "    </tr>\n",
       "    <tr>\n",
       "      <th>2</th>\n",
       "      <td>2</td>\n",
       "      <td>2016-0003</td>\n",
       "      <td>1</td>\n",
       "      <td>2016-01-03</td>\n",
       "      <td>7</td>\n",
       "      <td>AV ENTRE RIOS 2034</td>\n",
       "      <td>AVENIDA</td>\n",
       "      <td>1</td>\n",
       "      <td>-58.390403</td>\n",
       "      <td>-34.631894</td>\n",
       "      <td>MOTO</td>\n",
       "      <td>AUTO</td>\n",
       "    </tr>\n",
       "    <tr>\n",
       "      <th>3</th>\n",
       "      <td>3</td>\n",
       "      <td>2016-0004</td>\n",
       "      <td>1</td>\n",
       "      <td>2016-01-10</td>\n",
       "      <td>0</td>\n",
       "      <td>AV LARRAZABAL Y GRAL VILLEGAS CONRADO</td>\n",
       "      <td>AVENIDA</td>\n",
       "      <td>8</td>\n",
       "      <td>-58.465039</td>\n",
       "      <td>-34.680930</td>\n",
       "      <td>MOTO</td>\n",
       "      <td>SD</td>\n",
       "    </tr>\n",
       "    <tr>\n",
       "      <th>4</th>\n",
       "      <td>4</td>\n",
       "      <td>2016-0005</td>\n",
       "      <td>1</td>\n",
       "      <td>2016-01-21</td>\n",
       "      <td>5</td>\n",
       "      <td>AV SAN JUAN Y PRESIDENTE LUIS SAENZ PEÑA</td>\n",
       "      <td>AVENIDA</td>\n",
       "      <td>1</td>\n",
       "      <td>-58.387183</td>\n",
       "      <td>-34.622466</td>\n",
       "      <td>MOTO</td>\n",
       "      <td>PASAJEROS</td>\n",
       "    </tr>\n",
       "  </tbody>\n",
       "</table>\n",
       "</div>"
      ],
      "text/plain": [
       "   Unnamed: 0         ID  N_VICTIMAS       FECHA  HH  \\\n",
       "0           0  2016-0001           1  2016-01-01   4   \n",
       "1           1  2016-0002           1  2016-01-02   1   \n",
       "2           2  2016-0003           1  2016-01-03   7   \n",
       "3           3  2016-0004           1  2016-01-10   0   \n",
       "4           4  2016-0005           1  2016-01-21   5   \n",
       "\n",
       "                             LUGAR_DEL_HECHO TIPO_DE_CALLE  COMUNA      pos x  \\\n",
       "0  AV PIEDRA BUENA Y AV FERNANDEZ DE LA CRUZ       AVENIDA       8 -58.475340   \n",
       "1          AV GRAL PAZ  Y AV DE LOS CORRALES      GRAL PAZ       9 -58.508775   \n",
       "2                         AV ENTRE RIOS 2034       AVENIDA       1 -58.390403   \n",
       "3      AV LARRAZABAL Y GRAL VILLEGAS CONRADO       AVENIDA       8 -58.465039   \n",
       "4  AV SAN JUAN Y PRESIDENTE LUIS SAENZ PEÑA        AVENIDA       1 -58.387183   \n",
       "\n",
       "       pos y VICTIMA    ACUSADO  \n",
       "0 -34.687570    MOTO       AUTO  \n",
       "1 -34.669777    AUTO  PASAJEROS  \n",
       "2 -34.631894    MOTO       AUTO  \n",
       "3 -34.680930    MOTO         SD  \n",
       "4 -34.622466    MOTO  PASAJEROS  "
      ]
     },
     "execution_count": 8,
     "metadata": {},
     "output_type": "execute_result"
    }
   ],
   "source": [
    "hechos_fatales.head()"
   ]
  },
  {
   "cell_type": "code",
   "execution_count": 9,
   "metadata": {},
   "outputs": [
    {
     "data": {
      "text/html": [
       "<div>\n",
       "<style scoped>\n",
       "    .dataframe tbody tr th:only-of-type {\n",
       "        vertical-align: middle;\n",
       "    }\n",
       "\n",
       "    .dataframe tbody tr th {\n",
       "        vertical-align: top;\n",
       "    }\n",
       "\n",
       "    .dataframe thead th {\n",
       "        text-align: right;\n",
       "    }\n",
       "</style>\n",
       "<table border=\"1\" class=\"dataframe\">\n",
       "  <thead>\n",
       "    <tr style=\"text-align: right;\">\n",
       "      <th></th>\n",
       "      <th>Unnamed: 0</th>\n",
       "      <th>ID</th>\n",
       "      <th>FECHA</th>\n",
       "      <th>ROL</th>\n",
       "      <th>TIPO_DE_VEHICULO</th>\n",
       "      <th>SEXO</th>\n",
       "      <th>EDAD</th>\n",
       "    </tr>\n",
       "  </thead>\n",
       "  <tbody>\n",
       "    <tr>\n",
       "      <th>0</th>\n",
       "      <td>0</td>\n",
       "      <td>2016-0001</td>\n",
       "      <td>2016-01-01</td>\n",
       "      <td>CONDUCTOR</td>\n",
       "      <td>MOTO</td>\n",
       "      <td>MASCULINO</td>\n",
       "      <td>19</td>\n",
       "    </tr>\n",
       "    <tr>\n",
       "      <th>1</th>\n",
       "      <td>1</td>\n",
       "      <td>2016-0002</td>\n",
       "      <td>2016-01-02</td>\n",
       "      <td>CONDUCTOR</td>\n",
       "      <td>AUTO</td>\n",
       "      <td>MASCULINO</td>\n",
       "      <td>70</td>\n",
       "    </tr>\n",
       "    <tr>\n",
       "      <th>2</th>\n",
       "      <td>2</td>\n",
       "      <td>2016-0003</td>\n",
       "      <td>2016-01-03</td>\n",
       "      <td>CONDUCTOR</td>\n",
       "      <td>MOTO</td>\n",
       "      <td>MASCULINO</td>\n",
       "      <td>30</td>\n",
       "    </tr>\n",
       "    <tr>\n",
       "      <th>3</th>\n",
       "      <td>3</td>\n",
       "      <td>2016-0004</td>\n",
       "      <td>2016-01-10</td>\n",
       "      <td>CONDUCTOR</td>\n",
       "      <td>MOTO</td>\n",
       "      <td>MASCULINO</td>\n",
       "      <td>18</td>\n",
       "    </tr>\n",
       "    <tr>\n",
       "      <th>4</th>\n",
       "      <td>4</td>\n",
       "      <td>2016-0005</td>\n",
       "      <td>2016-01-21</td>\n",
       "      <td>CONDUCTOR</td>\n",
       "      <td>MOTO</td>\n",
       "      <td>MASCULINO</td>\n",
       "      <td>29</td>\n",
       "    </tr>\n",
       "  </tbody>\n",
       "</table>\n",
       "</div>"
      ],
      "text/plain": [
       "   Unnamed: 0         ID       FECHA        ROL TIPO_DE_VEHICULO       SEXO  \\\n",
       "0           0  2016-0001  2016-01-01  CONDUCTOR             MOTO  MASCULINO   \n",
       "1           1  2016-0002  2016-01-02  CONDUCTOR             AUTO  MASCULINO   \n",
       "2           2  2016-0003  2016-01-03  CONDUCTOR             MOTO  MASCULINO   \n",
       "3           3  2016-0004  2016-01-10  CONDUCTOR             MOTO  MASCULINO   \n",
       "4           4  2016-0005  2016-01-21  CONDUCTOR             MOTO  MASCULINO   \n",
       "\n",
       "   EDAD  \n",
       "0    19  \n",
       "1    70  \n",
       "2    30  \n",
       "3    18  \n",
       "4    29  "
      ]
     },
     "execution_count": 9,
     "metadata": {},
     "output_type": "execute_result"
    }
   ],
   "source": [
    "victimas_fatales.head()"
   ]
  },
  {
   "cell_type": "markdown",
   "metadata": {},
   "source": [
    "* Veo que hechos fatales y victimas fatales coinciden en el ID, voy a hacer un merge de ambas tablas para tener la mayor cantidad de datos posibles "
   ]
  },
  {
   "cell_type": "code",
   "execution_count": 10,
   "metadata": {},
   "outputs": [
    {
     "name": "stdout",
     "output_type": "stream",
     "text": [
      "<class 'pandas.core.frame.DataFrame'>\n",
      "RangeIndex: 704 entries, 0 to 703\n",
      "Data columns (total 18 columns):\n",
      " #   Column            Non-Null Count  Dtype  \n",
      "---  ------            --------------  -----  \n",
      " 0   Unnamed: 0_x      704 non-null    int64  \n",
      " 1   ID                704 non-null    object \n",
      " 2   N_VICTIMAS        704 non-null    int64  \n",
      " 3   FECHA_x           704 non-null    object \n",
      " 4   HH                704 non-null    int64  \n",
      " 5   LUGAR_DEL_HECHO   704 non-null    object \n",
      " 6   TIPO_DE_CALLE     704 non-null    object \n",
      " 7   COMUNA            704 non-null    int64  \n",
      " 8   pos x             704 non-null    float64\n",
      " 9   pos y             704 non-null    float64\n",
      " 10  VICTIMA           704 non-null    object \n",
      " 11  ACUSADO           704 non-null    object \n",
      " 12  Unnamed: 0_y      704 non-null    int64  \n",
      " 13  FECHA_y           704 non-null    object \n",
      " 14  ROL               704 non-null    object \n",
      " 15  TIPO_DE_VEHICULO  704 non-null    object \n",
      " 16  SEXO              704 non-null    object \n",
      " 17  EDAD              704 non-null    int64  \n",
      "dtypes: float64(2), int64(6), object(10)\n",
      "memory usage: 99.1+ KB\n"
     ]
    }
   ],
   "source": [
    "fatales = pd.merge(hechos_fatales,victimas_fatales, on='ID', how='inner')\n",
    "fatales.info()"
   ]
  },
  {
   "cell_type": "code",
   "execution_count": 11,
   "metadata": {},
   "outputs": [
    {
     "data": {
      "text/plain": [
       "array(['CONDUCTOR', 'PASAJERO_ACOMPAÑANTE', 'PEATON', 'SD', 'CICLISTA'],\n",
       "      dtype=object)"
      ]
     },
     "execution_count": 11,
     "metadata": {},
     "output_type": "execute_result"
    }
   ],
   "source": [
    "roles = fatales['ROL'].unique()\n",
    "roles"
   ]
  },
  {
   "cell_type": "code",
   "execution_count": 12,
   "metadata": {},
   "outputs": [
    {
     "data": {
      "text/plain": [
       "array(['MOTO', 'AUTO', 'PEATON', 'SD', 'CARGAS', 'BICICLETA', 'PASAJEROS',\n",
       "       'MOVIL'], dtype=object)"
      ]
     },
     "execution_count": 12,
     "metadata": {},
     "output_type": "execute_result"
    }
   ],
   "source": [
    "Tipos_de_vehiculo = fatales['TIPO_DE_VEHICULO'].unique()\n",
    "Tipos_de_vehiculo"
   ]
  },
  {
   "cell_type": "code",
   "execution_count": 13,
   "metadata": {},
   "outputs": [
    {
     "data": {
      "text/plain": [
       "array(['MOTO', 'AUTO', 'PEATON', 'SD', 'CARGAS', 'BICICLETA', 'PASAJEROS',\n",
       "       'MOVIL', 'OBJETO FIJO', 'PEATON_MOTO'], dtype=object)"
      ]
     },
     "execution_count": 13,
     "metadata": {},
     "output_type": "execute_result"
    }
   ],
   "source": [
    "victima = fatales['VICTIMA'].unique()\n",
    "victima"
   ]
  },
  {
   "cell_type": "markdown",
   "metadata": {},
   "source": [
    "* Con ambas tablas en una sola, tengo columnas redundantes y puedo eliminarlas."
   ]
  },
  {
   "cell_type": "code",
   "execution_count": 14,
   "metadata": {},
   "outputs": [
    {
     "name": "stdout",
     "output_type": "stream",
     "text": [
      "<class 'pandas.core.frame.DataFrame'>\n",
      "RangeIndex: 704 entries, 0 to 703\n",
      "Data columns (total 13 columns):\n",
      " #   Column            Non-Null Count  Dtype  \n",
      "---  ------            --------------  -----  \n",
      " 0   ID                704 non-null    object \n",
      " 1   N_VICTIMAS        704 non-null    int64  \n",
      " 2   FECHA_x           704 non-null    object \n",
      " 3   HH                704 non-null    int64  \n",
      " 4   TIPO_DE_CALLE     704 non-null    object \n",
      " 5   COMUNA            704 non-null    int64  \n",
      " 6   pos x             704 non-null    float64\n",
      " 7   pos y             704 non-null    float64\n",
      " 8   ACUSADO           704 non-null    object \n",
      " 9   ROL               704 non-null    object \n",
      " 10  TIPO_DE_VEHICULO  704 non-null    object \n",
      " 11  SEXO              704 non-null    object \n",
      " 12  EDAD              704 non-null    int64  \n",
      "dtypes: float64(2), int64(4), object(7)\n",
      "memory usage: 71.6+ KB\n"
     ]
    }
   ],
   "source": [
    "columnas_a_eliminar = ['Unnamed: 0_x','LUGAR_DEL_HECHO','Unnamed: 0_y','FECHA_y','VICTIMA',]\n",
    "fatales.drop(columns=columnas_a_eliminar, inplace=True)\n",
    "fatales.info()"
   ]
  },
  {
   "cell_type": "markdown",
   "metadata": {},
   "source": [
    "* 'Unnamed: 0_x e 0_y' fueron eliminados por ser columnas que no aportan al dataframe\n",
    "* 'Lugar del hecho' fue eliminada porque eran datos de tipo str que no estaban normalizados del nombre de las calles donde ocurrieron los hechos. Esta información puede ser consultada a través de las coordenadas\n",
    "* 'FECHA_y' fue eliminada por ser redundante con 'FECHA_x'\n",
    "* 'VICTIMA' aportaba la misma información que 'TIPO_DE_VEHICULO' siendo esta última mejor para aportar el tipo de vehiculo\n"
   ]
  },
  {
   "cell_type": "markdown",
   "metadata": {},
   "source": [
    "* Renombro las columnas con nombres más identificables\n"
   ]
  },
  {
   "cell_type": "code",
   "execution_count": 15,
   "metadata": {},
   "outputs": [
    {
     "name": "stdout",
     "output_type": "stream",
     "text": [
      "<class 'pandas.core.frame.DataFrame'>\n",
      "RangeIndex: 704 entries, 0 to 703\n",
      "Data columns (total 13 columns):\n",
      " #   Column                Non-Null Count  Dtype  \n",
      "---  ------                --------------  -----  \n",
      " 0   ID                    704 non-null    object \n",
      " 1   Cantidad de victimas  704 non-null    int64  \n",
      " 2   Fecha                 704 non-null    object \n",
      " 3   HH                    704 non-null    int64  \n",
      " 4   Tipo De Calle         704 non-null    object \n",
      " 5   Comuna                704 non-null    int64  \n",
      " 6   Long                  704 non-null    float64\n",
      " 7   Lat                   704 non-null    float64\n",
      " 8   Vehiculo Acusado      704 non-null    object \n",
      " 9   ROL                   704 non-null    object \n",
      " 10  Vehiculo Victima      704 non-null    object \n",
      " 11  Sexo                  704 non-null    object \n",
      " 12  Edad                  704 non-null    int64  \n",
      "dtypes: float64(2), int64(4), object(7)\n",
      "memory usage: 71.6+ KB\n"
     ]
    }
   ],
   "source": [
    "Nombres_Nuevos = {'N_VICTIMAS':'Cantidad de victimas','FECHA_x':'Fecha','TIPO_DE_CALLE':'Tipo De Calle','COMUNA':'Comuna','pos x':'Long','pos y':'Lat','ACUSADO':'Vehiculo Acusado','TIPO_DE_VEHICULO':'Vehiculo Victima','SEXO':'Sexo','EDAD':'Edad'}\n",
    "fatales.rename(columns=Nombres_Nuevos,inplace=True)\n",
    "fatales.info()"
   ]
  },
  {
   "cell_type": "markdown",
   "metadata": {},
   "source": [
    "Finalmente quedaron las siguientes columnas:\n",
    "* ID = numero de identificacion del hecho\n",
    "* Cantidad de victimas = cantidad de victimas fatales del hecho\n",
    "* Fecha = Fecha del suceso \n",
    "* HH = Franja horaria \n",
    "* Tipo de calle = Tipo de calle donde ocurrio el hecho, calle, avenida, autopista\n",
    "* Comuna = Comuna donde ocurrió\n",
    "* Long y Lat = Conjunto de coordenadas del hecho\n",
    "* Vehiculo Acusado = Tipo de vehiculo del acusado\n",
    "* ROL = Rol que ocupaba la víctima\n",
    "* Vehiculo Victima = Tipo de vehiculo de la victima\n",
    "* Sexo = Género de la victima\n",
    "* Edad = Edad de la victima\n"
   ]
  },
  {
   "cell_type": "code",
   "execution_count": 16,
   "metadata": {},
   "outputs": [
    {
     "data": {
      "text/plain": [
       "array(['MOTO', 'AUTO', 'PEATON', 'SD', 'CARGAS', 'BICICLETA', 'PASAJEROS',\n",
       "       'MOVIL'], dtype=object)"
      ]
     },
     "execution_count": 16,
     "metadata": {},
     "output_type": "execute_result"
    }
   ],
   "source": [
    "vehiculos = fatales['Vehiculo Victima'].unique()\n",
    "vehiculos"
   ]
  },
  {
   "cell_type": "markdown",
   "metadata": {},
   "source": [
    "Voy a guardar este csv para realizar el dashboard\n"
   ]
  },
  {
   "cell_type": "code",
   "execution_count": 32,
   "metadata": {},
   "outputs": [],
   "source": [
    "#fatales.to_csv('src/fatales.csv')"
   ]
  },
  {
   "cell_type": "markdown",
   "metadata": {},
   "source": [
    "# Lesiones"
   ]
  },
  {
   "cell_type": "code",
   "execution_count": 5,
   "metadata": {},
   "outputs": [
    {
     "name": "stdout",
     "output_type": "stream",
     "text": [
      "<class 'pandas.core.frame.DataFrame'>\n",
      "RangeIndex: 22328 entries, 0 to 22327\n",
      "Data columns (total 10 columns):\n",
      " #   Column      Non-Null Count  Dtype  \n",
      "---  ------      --------------  -----  \n",
      " 0   Unnamed: 0  22328 non-null  int64  \n",
      " 1   id          22328 non-null  object \n",
      " 2   n_victimas  22328 non-null  int64  \n",
      " 3   fecha       22328 non-null  object \n",
      " 4   hora        22328 non-null  int64  \n",
      " 5   comuna      22328 non-null  int64  \n",
      " 6   longitud    22238 non-null  float64\n",
      " 7   latitud     22238 non-null  float64\n",
      " 8   victima     22328 non-null  object \n",
      " 9   gravedad    22328 non-null  object \n",
      "dtypes: float64(2), int64(4), object(4)\n",
      "memory usage: 1.7+ MB\n"
     ]
    }
   ],
   "source": [
    "lesiones_hechos.info()"
   ]
  },
  {
   "cell_type": "markdown",
   "metadata": {},
   "source": [
    "* Veo que no tiene nulos, es un dataset más grande que el de los hechos fatales"
   ]
  },
  {
   "cell_type": "code",
   "execution_count": 6,
   "metadata": {},
   "outputs": [
    {
     "name": "stdout",
     "output_type": "stream",
     "text": [
      "<class 'pandas.core.frame.DataFrame'>\n",
      "RangeIndex: 27605 entries, 0 to 27604\n",
      "Data columns (total 5 columns):\n",
      " #   Column        Non-Null Count  Dtype \n",
      "---  ------        --------------  ----- \n",
      " 0   Unnamed: 0    27605 non-null  int64 \n",
      " 1   ID hecho      27605 non-null  object\n",
      " 2   FECHA         27605 non-null  object\n",
      " 3   SEXO          27605 non-null  object\n",
      " 4   EDAD_VICTIMA  27605 non-null  int64 \n",
      "dtypes: int64(2), object(3)\n",
      "memory usage: 1.1+ MB\n"
     ]
    }
   ],
   "source": [
    "lesiones_victimas.info()"
   ]
  },
  {
   "cell_type": "markdown",
   "metadata": {},
   "source": [
    "* El proceso será parecido al de hechos fatales"
   ]
  },
  {
   "cell_type": "code",
   "execution_count": 7,
   "metadata": {},
   "outputs": [
    {
     "data": {
      "text/html": [
       "<div>\n",
       "<style scoped>\n",
       "    .dataframe tbody tr th:only-of-type {\n",
       "        vertical-align: middle;\n",
       "    }\n",
       "\n",
       "    .dataframe tbody tr th {\n",
       "        vertical-align: top;\n",
       "    }\n",
       "\n",
       "    .dataframe thead th {\n",
       "        text-align: right;\n",
       "    }\n",
       "</style>\n",
       "<table border=\"1\" class=\"dataframe\">\n",
       "  <thead>\n",
       "    <tr style=\"text-align: right;\">\n",
       "      <th></th>\n",
       "      <th>Unnamed: 0</th>\n",
       "      <th>id</th>\n",
       "      <th>n_victimas</th>\n",
       "      <th>fecha</th>\n",
       "      <th>hora</th>\n",
       "      <th>comuna</th>\n",
       "      <th>longitud</th>\n",
       "      <th>latitud</th>\n",
       "      <th>victima</th>\n",
       "      <th>gravedad</th>\n",
       "    </tr>\n",
       "  </thead>\n",
       "  <tbody>\n",
       "    <tr>\n",
       "      <th>0</th>\n",
       "      <td>0</td>\n",
       "      <td>LC-2019-0000179</td>\n",
       "      <td>1</td>\n",
       "      <td>2019-01-01</td>\n",
       "      <td>9</td>\n",
       "      <td>14</td>\n",
       "      <td>-58.408911</td>\n",
       "      <td>-34.559658</td>\n",
       "      <td>ciclista</td>\n",
       "      <td>LEVE</td>\n",
       "    </tr>\n",
       "    <tr>\n",
       "      <th>1</th>\n",
       "      <td>1</td>\n",
       "      <td>LC-2019-0000053</td>\n",
       "      <td>1</td>\n",
       "      <td>2019-01-01</td>\n",
       "      <td>1</td>\n",
       "      <td>8</td>\n",
       "      <td>-58.443510</td>\n",
       "      <td>-34.669125</td>\n",
       "      <td>auto</td>\n",
       "      <td>LEVE</td>\n",
       "    </tr>\n",
       "    <tr>\n",
       "      <th>2</th>\n",
       "      <td>2</td>\n",
       "      <td>LC-2019-0000063</td>\n",
       "      <td>1</td>\n",
       "      <td>2019-01-01</td>\n",
       "      <td>2</td>\n",
       "      <td>8</td>\n",
       "      <td>-58.468335</td>\n",
       "      <td>-34.677556</td>\n",
       "      <td>moto</td>\n",
       "      <td>LEVE</td>\n",
       "    </tr>\n",
       "    <tr>\n",
       "      <th>3</th>\n",
       "      <td>3</td>\n",
       "      <td>LC-2019-0000079</td>\n",
       "      <td>1</td>\n",
       "      <td>2019-01-01</td>\n",
       "      <td>2</td>\n",
       "      <td>7</td>\n",
       "      <td>-58.437425</td>\n",
       "      <td>-34.647349</td>\n",
       "      <td>moto</td>\n",
       "      <td>LEVE</td>\n",
       "    </tr>\n",
       "    <tr>\n",
       "      <th>4</th>\n",
       "      <td>4</td>\n",
       "      <td>LC-2019-0000082</td>\n",
       "      <td>4</td>\n",
       "      <td>2019-01-01</td>\n",
       "      <td>4</td>\n",
       "      <td>3</td>\n",
       "      <td>-58.398225</td>\n",
       "      <td>-34.604579</td>\n",
       "      <td>transporte_publico</td>\n",
       "      <td>LEVE</td>\n",
       "    </tr>\n",
       "  </tbody>\n",
       "</table>\n",
       "</div>"
      ],
      "text/plain": [
       "   Unnamed: 0               id  n_victimas       fecha  hora  comuna  \\\n",
       "0           0  LC-2019-0000179           1  2019-01-01     9      14   \n",
       "1           1  LC-2019-0000053           1  2019-01-01     1       8   \n",
       "2           2  LC-2019-0000063           1  2019-01-01     2       8   \n",
       "3           3  LC-2019-0000079           1  2019-01-01     2       7   \n",
       "4           4  LC-2019-0000082           4  2019-01-01     4       3   \n",
       "\n",
       "    longitud    latitud             victima gravedad  \n",
       "0 -58.408911 -34.559658            ciclista     LEVE  \n",
       "1 -58.443510 -34.669125                auto     LEVE  \n",
       "2 -58.468335 -34.677556                moto     LEVE  \n",
       "3 -58.437425 -34.647349                moto     LEVE  \n",
       "4 -58.398225 -34.604579  transporte_publico     LEVE  "
      ]
     },
     "execution_count": 7,
     "metadata": {},
     "output_type": "execute_result"
    }
   ],
   "source": [
    "lesiones_hechos.head()"
   ]
  },
  {
   "cell_type": "code",
   "execution_count": 8,
   "metadata": {},
   "outputs": [
    {
     "data": {
      "text/html": [
       "<div>\n",
       "<style scoped>\n",
       "    .dataframe tbody tr th:only-of-type {\n",
       "        vertical-align: middle;\n",
       "    }\n",
       "\n",
       "    .dataframe tbody tr th {\n",
       "        vertical-align: top;\n",
       "    }\n",
       "\n",
       "    .dataframe thead th {\n",
       "        text-align: right;\n",
       "    }\n",
       "</style>\n",
       "<table border=\"1\" class=\"dataframe\">\n",
       "  <thead>\n",
       "    <tr style=\"text-align: right;\">\n",
       "      <th></th>\n",
       "      <th>Unnamed: 0</th>\n",
       "      <th>ID hecho</th>\n",
       "      <th>FECHA</th>\n",
       "      <th>SEXO</th>\n",
       "      <th>EDAD_VICTIMA</th>\n",
       "    </tr>\n",
       "  </thead>\n",
       "  <tbody>\n",
       "    <tr>\n",
       "      <th>0</th>\n",
       "      <td>0</td>\n",
       "      <td>LC-2019-0000053</td>\n",
       "      <td>2019-01-01</td>\n",
       "      <td>Varon</td>\n",
       "      <td>57</td>\n",
       "    </tr>\n",
       "    <tr>\n",
       "      <th>1</th>\n",
       "      <td>1</td>\n",
       "      <td>LC-2019-0000063</td>\n",
       "      <td>2019-01-01</td>\n",
       "      <td>SD</td>\n",
       "      <td>35</td>\n",
       "    </tr>\n",
       "    <tr>\n",
       "      <th>2</th>\n",
       "      <td>2</td>\n",
       "      <td>LC-2019-0000079</td>\n",
       "      <td>2019-01-01</td>\n",
       "      <td>Varon</td>\n",
       "      <td>35</td>\n",
       "    </tr>\n",
       "    <tr>\n",
       "      <th>3</th>\n",
       "      <td>3</td>\n",
       "      <td>LC-2019-0000082</td>\n",
       "      <td>2019-01-01</td>\n",
       "      <td>Varon</td>\n",
       "      <td>45</td>\n",
       "    </tr>\n",
       "    <tr>\n",
       "      <th>4</th>\n",
       "      <td>4</td>\n",
       "      <td>LC-2019-0000082</td>\n",
       "      <td>2019-01-01</td>\n",
       "      <td>Mujer</td>\n",
       "      <td>45</td>\n",
       "    </tr>\n",
       "  </tbody>\n",
       "</table>\n",
       "</div>"
      ],
      "text/plain": [
       "   Unnamed: 0         ID hecho      FECHA    SEXO  EDAD_VICTIMA\n",
       "0           0  LC-2019-0000053  2019-01-01  Varon            57\n",
       "1           1  LC-2019-0000063  2019-01-01     SD            35\n",
       "2           2  LC-2019-0000079  2019-01-01  Varon            35\n",
       "3           3  LC-2019-0000082  2019-01-01  Varon            45\n",
       "4           4  LC-2019-0000082  2019-01-01  Mujer            45"
      ]
     },
     "execution_count": 8,
     "metadata": {},
     "output_type": "execute_result"
    }
   ],
   "source": [
    "lesiones_victimas.head()"
   ]
  },
  {
   "cell_type": "markdown",
   "metadata": {},
   "source": [
    "* Voy a eliminar las columnas que no sean necesarias, y voy a normalizar los nombres"
   ]
  },
  {
   "cell_type": "code",
   "execution_count": 9,
   "metadata": {},
   "outputs": [],
   "source": [
    "lesiones_hechos.drop(columns='Unnamed: 0',inplace=True)\n",
    "lesiones_victimas.drop(columns='Unnamed: 0',inplace=True)"
   ]
  },
  {
   "cell_type": "code",
   "execution_count": 10,
   "metadata": {},
   "outputs": [],
   "source": [
    "renombrar_columnas = {'n_victimas':'Numero de Victimas','longitud':'long','latitud':'lat'}\n",
    "lesiones_hechos.rename(columns=renombrar_columnas,inplace=True)"
   ]
  },
  {
   "cell_type": "code",
   "execution_count": 11,
   "metadata": {},
   "outputs": [],
   "source": [
    "renombrar_columnas = {'ID hecho':'id','EDAD VICTIMA':'edad'}\n",
    "lesiones_victimas.rename(columns=renombrar_columnas,inplace=True)"
   ]
  },
  {
   "cell_type": "markdown",
   "metadata": {},
   "source": [
    "Los dataframes coinciden en la columna 'id', haré un merge"
   ]
  },
  {
   "cell_type": "code",
   "execution_count": 12,
   "metadata": {},
   "outputs": [
    {
     "data": {
      "text/html": [
       "<div>\n",
       "<style scoped>\n",
       "    .dataframe tbody tr th:only-of-type {\n",
       "        vertical-align: middle;\n",
       "    }\n",
       "\n",
       "    .dataframe tbody tr th {\n",
       "        vertical-align: top;\n",
       "    }\n",
       "\n",
       "    .dataframe thead th {\n",
       "        text-align: right;\n",
       "    }\n",
       "</style>\n",
       "<table border=\"1\" class=\"dataframe\">\n",
       "  <thead>\n",
       "    <tr style=\"text-align: right;\">\n",
       "      <th></th>\n",
       "      <th>id</th>\n",
       "      <th>Numero de Victimas</th>\n",
       "      <th>fecha</th>\n",
       "      <th>hora</th>\n",
       "      <th>comuna</th>\n",
       "      <th>long</th>\n",
       "      <th>lat</th>\n",
       "      <th>victima</th>\n",
       "      <th>gravedad</th>\n",
       "      <th>FECHA</th>\n",
       "      <th>SEXO</th>\n",
       "      <th>EDAD_VICTIMA</th>\n",
       "    </tr>\n",
       "  </thead>\n",
       "  <tbody>\n",
       "    <tr>\n",
       "      <th>0</th>\n",
       "      <td>LC-2019-0000179</td>\n",
       "      <td>1</td>\n",
       "      <td>2019-01-01</td>\n",
       "      <td>9</td>\n",
       "      <td>14</td>\n",
       "      <td>-58.408911</td>\n",
       "      <td>-34.559658</td>\n",
       "      <td>ciclista</td>\n",
       "      <td>LEVE</td>\n",
       "      <td>2019-01-01</td>\n",
       "      <td>SD</td>\n",
       "      <td>35</td>\n",
       "    </tr>\n",
       "    <tr>\n",
       "      <th>1</th>\n",
       "      <td>LC-2019-0000053</td>\n",
       "      <td>1</td>\n",
       "      <td>2019-01-01</td>\n",
       "      <td>1</td>\n",
       "      <td>8</td>\n",
       "      <td>-58.443510</td>\n",
       "      <td>-34.669125</td>\n",
       "      <td>auto</td>\n",
       "      <td>LEVE</td>\n",
       "      <td>2019-01-01</td>\n",
       "      <td>Varon</td>\n",
       "      <td>57</td>\n",
       "    </tr>\n",
       "    <tr>\n",
       "      <th>2</th>\n",
       "      <td>LC-2019-0000063</td>\n",
       "      <td>1</td>\n",
       "      <td>2019-01-01</td>\n",
       "      <td>2</td>\n",
       "      <td>8</td>\n",
       "      <td>-58.468335</td>\n",
       "      <td>-34.677556</td>\n",
       "      <td>moto</td>\n",
       "      <td>LEVE</td>\n",
       "      <td>2019-01-01</td>\n",
       "      <td>SD</td>\n",
       "      <td>35</td>\n",
       "    </tr>\n",
       "    <tr>\n",
       "      <th>3</th>\n",
       "      <td>LC-2019-0000079</td>\n",
       "      <td>1</td>\n",
       "      <td>2019-01-01</td>\n",
       "      <td>2</td>\n",
       "      <td>7</td>\n",
       "      <td>-58.437425</td>\n",
       "      <td>-34.647349</td>\n",
       "      <td>moto</td>\n",
       "      <td>LEVE</td>\n",
       "      <td>2019-01-01</td>\n",
       "      <td>Varon</td>\n",
       "      <td>35</td>\n",
       "    </tr>\n",
       "    <tr>\n",
       "      <th>4</th>\n",
       "      <td>LC-2019-0000082</td>\n",
       "      <td>4</td>\n",
       "      <td>2019-01-01</td>\n",
       "      <td>4</td>\n",
       "      <td>3</td>\n",
       "      <td>-58.398225</td>\n",
       "      <td>-34.604579</td>\n",
       "      <td>transporte_publico</td>\n",
       "      <td>LEVE</td>\n",
       "      <td>2019-01-01</td>\n",
       "      <td>Varon</td>\n",
       "      <td>45</td>\n",
       "    </tr>\n",
       "  </tbody>\n",
       "</table>\n",
       "</div>"
      ],
      "text/plain": [
       "                id  Numero de Victimas       fecha  hora  comuna       long  \\\n",
       "0  LC-2019-0000179                   1  2019-01-01     9      14 -58.408911   \n",
       "1  LC-2019-0000053                   1  2019-01-01     1       8 -58.443510   \n",
       "2  LC-2019-0000063                   1  2019-01-01     2       8 -58.468335   \n",
       "3  LC-2019-0000079                   1  2019-01-01     2       7 -58.437425   \n",
       "4  LC-2019-0000082                   4  2019-01-01     4       3 -58.398225   \n",
       "\n",
       "         lat             victima gravedad      FECHA    SEXO  EDAD_VICTIMA  \n",
       "0 -34.559658            ciclista     LEVE  2019-01-01     SD            35  \n",
       "1 -34.669125                auto     LEVE  2019-01-01  Varon            57  \n",
       "2 -34.677556                moto     LEVE  2019-01-01     SD            35  \n",
       "3 -34.647349                moto     LEVE  2019-01-01  Varon            35  \n",
       "4 -34.604579  transporte_publico     LEVE  2019-01-01  Varon            45  "
      ]
     },
     "execution_count": 12,
     "metadata": {},
     "output_type": "execute_result"
    }
   ],
   "source": [
    "lesiones = pd.merge(lesiones_hechos,lesiones_victimas, on='id', how='inner')\n",
    "lesiones.head()"
   ]
  },
  {
   "cell_type": "code",
   "execution_count": 13,
   "metadata": {},
   "outputs": [
    {
     "name": "stdout",
     "output_type": "stream",
     "text": [
      "<class 'pandas.core.frame.DataFrame'>\n",
      "RangeIndex: 25974 entries, 0 to 25973\n",
      "Data columns (total 12 columns):\n",
      " #   Column              Non-Null Count  Dtype  \n",
      "---  ------              --------------  -----  \n",
      " 0   id                  25974 non-null  object \n",
      " 1   Numero de Victimas  25974 non-null  int64  \n",
      " 2   fecha               25974 non-null  object \n",
      " 3   hora                25974 non-null  int64  \n",
      " 4   comuna              25974 non-null  int64  \n",
      " 5   long                25857 non-null  float64\n",
      " 6   lat                 25857 non-null  float64\n",
      " 7   victima             25974 non-null  object \n",
      " 8   gravedad            25974 non-null  object \n",
      " 9   FECHA               25974 non-null  object \n",
      " 10  SEXO                25974 non-null  object \n",
      " 11  EDAD_VICTIMA        25974 non-null  int64  \n",
      "dtypes: float64(2), int64(4), object(6)\n",
      "memory usage: 2.4+ MB\n"
     ]
    }
   ],
   "source": [
    "lesiones.info()"
   ]
  },
  {
   "cell_type": "markdown",
   "metadata": {},
   "source": [
    "* Voy a eliminar la columna 'FECHA' que ha quedado redundante\n"
   ]
  },
  {
   "cell_type": "code",
   "execution_count": 14,
   "metadata": {},
   "outputs": [],
   "source": [
    "lesiones.drop(columns='FECHA ',inplace=True)"
   ]
  },
  {
   "cell_type": "code",
   "execution_count": 15,
   "metadata": {},
   "outputs": [
    {
     "name": "stdout",
     "output_type": "stream",
     "text": [
      "<class 'pandas.core.frame.DataFrame'>\n",
      "RangeIndex: 25974 entries, 0 to 25973\n",
      "Data columns (total 11 columns):\n",
      " #   Column              Non-Null Count  Dtype  \n",
      "---  ------              --------------  -----  \n",
      " 0   id                  25974 non-null  object \n",
      " 1   Numero de Victimas  25974 non-null  int64  \n",
      " 2   fecha               25974 non-null  object \n",
      " 3   hora                25974 non-null  int64  \n",
      " 4   comuna              25974 non-null  int64  \n",
      " 5   long                25857 non-null  float64\n",
      " 6   lat                 25857 non-null  float64\n",
      " 7   victima             25974 non-null  object \n",
      " 8   gravedad            25974 non-null  object \n",
      " 9   SEXO                25974 non-null  object \n",
      " 10  EDAD_VICTIMA        25974 non-null  int64  \n",
      "dtypes: float64(2), int64(4), object(5)\n",
      "memory usage: 2.2+ MB\n"
     ]
    }
   ],
   "source": [
    "lesiones.info()"
   ]
  },
  {
   "cell_type": "markdown",
   "metadata": {},
   "source": [
    "* Voy a normalizar los nombres de las columnas"
   ]
  },
  {
   "cell_type": "code",
   "execution_count": 16,
   "metadata": {},
   "outputs": [
    {
     "data": {
      "text/html": [
       "<div>\n",
       "<style scoped>\n",
       "    .dataframe tbody tr th:only-of-type {\n",
       "        vertical-align: middle;\n",
       "    }\n",
       "\n",
       "    .dataframe tbody tr th {\n",
       "        vertical-align: top;\n",
       "    }\n",
       "\n",
       "    .dataframe thead th {\n",
       "        text-align: right;\n",
       "    }\n",
       "</style>\n",
       "<table border=\"1\" class=\"dataframe\">\n",
       "  <thead>\n",
       "    <tr style=\"text-align: right;\">\n",
       "      <th></th>\n",
       "      <th>id</th>\n",
       "      <th>Numero de Victimas</th>\n",
       "      <th>fecha</th>\n",
       "      <th>hora</th>\n",
       "      <th>comuna</th>\n",
       "      <th>long</th>\n",
       "      <th>lat</th>\n",
       "      <th>victima</th>\n",
       "      <th>gravedad</th>\n",
       "      <th>SEXO</th>\n",
       "      <th>EDAD_VICTIMA</th>\n",
       "    </tr>\n",
       "  </thead>\n",
       "  <tbody>\n",
       "    <tr>\n",
       "      <th>0</th>\n",
       "      <td>LC-2019-0000179</td>\n",
       "      <td>1</td>\n",
       "      <td>2019-01-01</td>\n",
       "      <td>9</td>\n",
       "      <td>14</td>\n",
       "      <td>-58.408911</td>\n",
       "      <td>-34.559658</td>\n",
       "      <td>ciclista</td>\n",
       "      <td>LEVE</td>\n",
       "      <td>SD</td>\n",
       "      <td>35</td>\n",
       "    </tr>\n",
       "  </tbody>\n",
       "</table>\n",
       "</div>"
      ],
      "text/plain": [
       "                id  Numero de Victimas       fecha  hora  comuna       long  \\\n",
       "0  LC-2019-0000179                   1  2019-01-01     9      14 -58.408911   \n",
       "\n",
       "         lat   victima gravedad SEXO  EDAD_VICTIMA  \n",
       "0 -34.559658  ciclista     LEVE   SD            35  "
      ]
     },
     "execution_count": 16,
     "metadata": {},
     "output_type": "execute_result"
    }
   ],
   "source": [
    "lesiones.head(1)"
   ]
  },
  {
   "cell_type": "code",
   "execution_count": 17,
   "metadata": {},
   "outputs": [
    {
     "name": "stdout",
     "output_type": "stream",
     "text": [
      "<class 'pandas.core.frame.DataFrame'>\n",
      "RangeIndex: 25974 entries, 0 to 25973\n",
      "Data columns (total 11 columns):\n",
      " #   Column                Non-Null Count  Dtype  \n",
      "---  ------                --------------  -----  \n",
      " 0   ID                    25974 non-null  object \n",
      " 1   Cantidad de victimas  25974 non-null  int64  \n",
      " 2   Fecha                 25974 non-null  object \n",
      " 3   HH                    25974 non-null  int64  \n",
      " 4   Comuna                25974 non-null  int64  \n",
      " 5   Long                  25857 non-null  float64\n",
      " 6   Lat                   25857 non-null  float64\n",
      " 7   Vehiculo Victima      25974 non-null  object \n",
      " 8   Gravedad              25974 non-null  object \n",
      " 9   Sexo                  25974 non-null  object \n",
      " 10  Edad                  25974 non-null  int64  \n",
      "dtypes: float64(2), int64(4), object(5)\n",
      "memory usage: 2.2+ MB\n"
     ]
    }
   ],
   "source": [
    "Nuevos_Nombres = {'id':'ID','Numero de Victimas':'Cantidad de victimas','hora':'HH','comuna':'Comuna','long':'Long','lat':'Lat','victima':'Vehiculo Victima','gravedad':'Gravedad','fecha':'Fecha','SEXO':'Sexo','EDAD_VICTIMA':'Edad'}\n",
    "lesiones.rename(columns=Nuevos_Nombres,inplace=True)\n",
    "lesiones.info()"
   ]
  },
  {
   "cell_type": "markdown",
   "metadata": {},
   "source": [
    "* Los tipos de datos están correctos\n"
   ]
  },
  {
   "cell_type": "code",
   "execution_count": 18,
   "metadata": {},
   "outputs": [
    {
     "data": {
      "text/plain": [
       "array(['LEVE', 'GRAVE', 'FATAL'], dtype=object)"
      ]
     },
     "execution_count": 18,
     "metadata": {},
     "output_type": "execute_result"
    }
   ],
   "source": [
    "Valores_Gravedad = lesiones['Gravedad'].unique()\n",
    "\n",
    "Valores_Gravedad"
   ]
  },
  {
   "cell_type": "code",
   "execution_count": 19,
   "metadata": {},
   "outputs": [
    {
     "data": {
      "text/plain": [
       "array(['SD', 'Varon', 'Mujer', 'mujer', 'MUJER', 'sd', 'varon'],\n",
       "      dtype=object)"
      ]
     },
     "execution_count": 19,
     "metadata": {},
     "output_type": "execute_result"
    }
   ],
   "source": [
    "Valores_Sexo = lesiones['Sexo'].unique()\n",
    "Valores_Sexo"
   ]
  },
  {
   "cell_type": "code",
   "execution_count": 20,
   "metadata": {},
   "outputs": [],
   "source": [
    "# Normalizar los valores de la columna 'sexo'\n",
    "lesiones['Sexo'] = lesiones['Sexo'].str.capitalize()\n"
   ]
  },
  {
   "cell_type": "code",
   "execution_count": 21,
   "metadata": {},
   "outputs": [
    {
     "data": {
      "text/plain": [
       "array(['Sd', 'Varon', 'Mujer'], dtype=object)"
      ]
     },
     "execution_count": 21,
     "metadata": {},
     "output_type": "execute_result"
    }
   ],
   "source": [
    "Valores_Sexo = lesiones['Sexo'].unique()\n",
    "Valores_Sexo"
   ]
  },
  {
   "cell_type": "code",
   "execution_count": 22,
   "metadata": {},
   "outputs": [
    {
     "name": "stdout",
     "output_type": "stream",
     "text": [
      "<class 'pandas.core.frame.DataFrame'>\n",
      "Index: 25857 entries, 0 to 25973\n",
      "Data columns (total 11 columns):\n",
      " #   Column                Non-Null Count  Dtype  \n",
      "---  ------                --------------  -----  \n",
      " 0   ID                    25857 non-null  object \n",
      " 1   Cantidad de victimas  25857 non-null  int64  \n",
      " 2   Fecha                 25857 non-null  object \n",
      " 3   HH                    25857 non-null  int64  \n",
      " 4   Comuna                25857 non-null  int64  \n",
      " 5   Long                  25857 non-null  float64\n",
      " 6   Lat                   25857 non-null  float64\n",
      " 7   Vehiculo Victima      25857 non-null  object \n",
      " 8   Gravedad              25857 non-null  object \n",
      " 9   Sexo                  25857 non-null  object \n",
      " 10  Edad                  25857 non-null  int64  \n",
      "dtypes: float64(2), int64(4), object(5)\n",
      "memory usage: 2.4+ MB\n"
     ]
    }
   ],
   "source": [
    "lesiones = lesiones.dropna(subset=['Lat', 'Long'])\n",
    "lesiones.info()"
   ]
  },
  {
   "cell_type": "code",
   "execution_count": 24,
   "metadata": {},
   "outputs": [],
   "source": [
    "lesiones.to_csv('src/No_fatales.csv')"
   ]
  }
 ],
 "metadata": {
  "kernelspec": {
   "display_name": "Python 3",
   "language": "python",
   "name": "python3"
  },
  "language_info": {
   "codemirror_mode": {
    "name": "ipython",
    "version": 3
   },
   "file_extension": ".py",
   "mimetype": "text/x-python",
   "name": "python",
   "nbconvert_exporter": "python",
   "pygments_lexer": "ipython3",
   "version": "3.11.0"
  }
 },
 "nbformat": 4,
 "nbformat_minor": 2
}
