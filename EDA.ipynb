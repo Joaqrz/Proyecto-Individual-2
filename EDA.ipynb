{
 "cells": [
  {
   "cell_type": "markdown",
   "metadata": {},
   "source": [
    "# EDA "
   ]
  },
  {
   "cell_type": "code",
   "execution_count": 9,
   "metadata": {},
   "outputs": [],
   "source": [
    "import pandas as pd\n",
    "import numpy as np\n",
    "import matplotlib.pyplot as plt\n",
    "import openpyxl \n"
   ]
  },
  {
   "cell_type": "markdown",
   "metadata": {},
   "source": [
    "#  Homicidios"
   ]
  },
  {
   "cell_type": "code",
   "execution_count": 13,
   "metadata": {},
   "outputs": [
    {
     "name": "stdout",
     "output_type": "stream",
     "text": [
      "<class 'pandas.core.frame.DataFrame'>\n",
      "RangeIndex: 717 entries, 0 to 716\n",
      "Data columns (total 10 columns):\n",
      " #   Column               Non-Null Count  Dtype         \n",
      "---  ------               --------------  -----         \n",
      " 0   ID_hecho             717 non-null    object        \n",
      " 1   FECHA                717 non-null    datetime64[ns]\n",
      " 2   AAAA                 717 non-null    int64         \n",
      " 3   MM                   717 non-null    int64         \n",
      " 4   DD                   717 non-null    int64         \n",
      " 5   ROL                  717 non-null    object        \n",
      " 6   VICTIMA              717 non-null    object        \n",
      " 7   SEXO                 717 non-null    object        \n",
      " 8   EDAD                 717 non-null    object        \n",
      " 9   FECHA_FALLECIMIENTO  717 non-null    object        \n",
      "dtypes: datetime64[ns](1), int64(3), object(6)\n",
      "memory usage: 56.1+ KB\n"
     ]
    }
   ],
   "source": [
    "homicidios_victimas = pd.DataFrame(homicidios_victimas)\n",
    "homicidios_victimas.info()"
   ]
  },
  {
   "cell_type": "code",
   "execution_count": 14,
   "metadata": {},
   "outputs": [
    {
     "data": {
      "text/html": [
       "<div>\n",
       "<style scoped>\n",
       "    .dataframe tbody tr th:only-of-type {\n",
       "        vertical-align: middle;\n",
       "    }\n",
       "\n",
       "    .dataframe tbody tr th {\n",
       "        vertical-align: top;\n",
       "    }\n",
       "\n",
       "    .dataframe thead th {\n",
       "        text-align: right;\n",
       "    }\n",
       "</style>\n",
       "<table border=\"1\" class=\"dataframe\">\n",
       "  <thead>\n",
       "    <tr style=\"text-align: right;\">\n",
       "      <th></th>\n",
       "      <th>ID_hecho</th>\n",
       "      <th>FECHA</th>\n",
       "      <th>AAAA</th>\n",
       "      <th>MM</th>\n",
       "      <th>DD</th>\n",
       "      <th>ROL</th>\n",
       "      <th>VICTIMA</th>\n",
       "      <th>SEXO</th>\n",
       "      <th>EDAD</th>\n",
       "      <th>FECHA_FALLECIMIENTO</th>\n",
       "    </tr>\n",
       "  </thead>\n",
       "  <tbody>\n",
       "    <tr>\n",
       "      <th>0</th>\n",
       "      <td>2016-0001</td>\n",
       "      <td>2016-01-01</td>\n",
       "      <td>2016</td>\n",
       "      <td>1</td>\n",
       "      <td>1</td>\n",
       "      <td>CONDUCTOR</td>\n",
       "      <td>MOTO</td>\n",
       "      <td>MASCULINO</td>\n",
       "      <td>19</td>\n",
       "      <td>2016-01-01 00:00:00</td>\n",
       "    </tr>\n",
       "    <tr>\n",
       "      <th>1</th>\n",
       "      <td>2016-0002</td>\n",
       "      <td>2016-01-02</td>\n",
       "      <td>2016</td>\n",
       "      <td>1</td>\n",
       "      <td>2</td>\n",
       "      <td>CONDUCTOR</td>\n",
       "      <td>AUTO</td>\n",
       "      <td>MASCULINO</td>\n",
       "      <td>70</td>\n",
       "      <td>2016-01-02 00:00:00</td>\n",
       "    </tr>\n",
       "    <tr>\n",
       "      <th>2</th>\n",
       "      <td>2016-0003</td>\n",
       "      <td>2016-01-03</td>\n",
       "      <td>2016</td>\n",
       "      <td>1</td>\n",
       "      <td>3</td>\n",
       "      <td>CONDUCTOR</td>\n",
       "      <td>MOTO</td>\n",
       "      <td>MASCULINO</td>\n",
       "      <td>30</td>\n",
       "      <td>2016-01-03 00:00:00</td>\n",
       "    </tr>\n",
       "    <tr>\n",
       "      <th>3</th>\n",
       "      <td>2016-0004</td>\n",
       "      <td>2016-01-10</td>\n",
       "      <td>2016</td>\n",
       "      <td>1</td>\n",
       "      <td>10</td>\n",
       "      <td>CONDUCTOR</td>\n",
       "      <td>MOTO</td>\n",
       "      <td>MASCULINO</td>\n",
       "      <td>18</td>\n",
       "      <td>SD</td>\n",
       "    </tr>\n",
       "    <tr>\n",
       "      <th>4</th>\n",
       "      <td>2016-0005</td>\n",
       "      <td>2016-01-21</td>\n",
       "      <td>2016</td>\n",
       "      <td>1</td>\n",
       "      <td>21</td>\n",
       "      <td>CONDUCTOR</td>\n",
       "      <td>MOTO</td>\n",
       "      <td>MASCULINO</td>\n",
       "      <td>29</td>\n",
       "      <td>2016-02-01 00:00:00</td>\n",
       "    </tr>\n",
       "  </tbody>\n",
       "</table>\n",
       "</div>"
      ],
      "text/plain": [
       "    ID_hecho      FECHA  AAAA  MM  DD        ROL VICTIMA       SEXO EDAD  \\\n",
       "0  2016-0001 2016-01-01  2016   1   1  CONDUCTOR    MOTO  MASCULINO   19   \n",
       "1  2016-0002 2016-01-02  2016   1   2  CONDUCTOR    AUTO  MASCULINO   70   \n",
       "2  2016-0003 2016-01-03  2016   1   3  CONDUCTOR    MOTO  MASCULINO   30   \n",
       "3  2016-0004 2016-01-10  2016   1  10  CONDUCTOR    MOTO  MASCULINO   18   \n",
       "4  2016-0005 2016-01-21  2016   1  21  CONDUCTOR    MOTO  MASCULINO   29   \n",
       "\n",
       "   FECHA_FALLECIMIENTO  \n",
       "0  2016-01-01 00:00:00  \n",
       "1  2016-01-02 00:00:00  \n",
       "2  2016-01-03 00:00:00  \n",
       "3                   SD  \n",
       "4  2016-02-01 00:00:00  "
      ]
     },
     "execution_count": 14,
     "metadata": {},
     "output_type": "execute_result"
    }
   ],
   "source": [
    "homicidios_victimas.head()"
   ]
  },
  {
   "cell_type": "markdown",
   "metadata": {},
   "source": [
    "* Identifico la cantidad de comunas que existen"
   ]
  },
  {
   "cell_type": "code",
   "execution_count": 15,
   "metadata": {},
   "outputs": [
    {
     "data": {
      "text/plain": [
       "16"
      ]
     },
     "execution_count": 15,
     "metadata": {},
     "output_type": "execute_result"
    }
   ],
   "source": [
    "cantidad_de_comunas = homicidios_hechos['COMUNA'].nunique()\n",
    "cantidad_de_comunas"
   ]
  },
  {
   "cell_type": "markdown",
   "metadata": {},
   "source": [
    "* Identifico las comunas con más victimas \n"
   ]
  },
  {
   "cell_type": "code",
   "execution_count": 16,
   "metadata": {},
   "outputs": [
    {
     "data": {
      "text/plain": [
       "COMUNA\n",
       "1     90\n",
       "4     76\n",
       "9     73\n",
       "8     65\n",
       "7     60\n",
       "3     45\n",
       "15    44\n",
       "13    40\n",
       "12    37\n",
       "14    35\n",
       "11    32\n",
       "10    29\n",
       "2     25\n",
       "5     22\n",
       "6     21\n",
       "0      2\n",
       "Name: count, dtype: int64"
      ]
     },
     "execution_count": 16,
     "metadata": {},
     "output_type": "execute_result"
    }
   ],
   "source": [
    "siniestros_por_comuna = homicidios_hechos['COMUNA'].value_counts()\n",
    "siniestros_por_comuna"
   ]
  },
  {
   "cell_type": "code",
   "execution_count": 18,
   "metadata": {},
   "outputs": [
    {
     "data": {
      "image/png": "[encoded data removed]",
      "text/plain": [
       "<Figure size 1000x600 with 1 Axes>"
      ]
     },
     "metadata": {},
     "output_type": "display_data"
    }
   ],
   "source": [
    "# Agrupamos por comuna y sumamos las víctimas fatales\n",
    "victimas_por_comuna = homicidios_hechos.groupby('COMUNA')['N_VICTIMAS'].sum()\n",
    "\n",
    "# Creamos el gráfico de barras\n",
    "plt.figure(figsize=(10, 6))\n",
    "plt.bar(victimas_por_comuna.index, victimas_por_comuna.values, color='skyblue')\n",
    "plt.xlabel('Comuna')\n",
    "plt.ylabel('Número de Víctimas Fatales')\n",
    "plt.title('Víctimas Fatales por Comuna en Siniestros Viales')\n",
    "plt.xticks(rotation= 90)  # Rotamos las etiquetas del eje x para mayor legibilidad\n",
    "plt.grid(axis='y')  # Agregamos una cuadrícula en el eje y\n",
    "plt.show()"
   ]
  },
  {
   "cell_type": "markdown",
   "metadata": {},
   "source": [
    "* La comuna con más victimas es la comuna N°1 que corresponde a los barrios de Retiro, San Nicolás, Monserrat, Constitución, San Telmo y Puerto Madero."
   ]
  },
  {
   "cell_type": "markdown",
   "metadata": {},
   "source": [
    "* Ahora voy a hacer una diferenciación por rango hetario y por sexo"
   ]
  },
  {
   "cell_type": "code",
   "execution_count": 25,
   "metadata": {},
   "outputs": [
    {
     "name": "stdout",
     "output_type": "stream",
     "text": [
      "object\n"
     ]
    }
   ],
   "source": [
    "print(homicidios_victimas['EDAD'].dtype)\n"
   ]
  },
  {
   "cell_type": "code",
   "execution_count": 28,
   "metadata": {},
   "outputs": [],
   "source": [
    "\n",
    "import numpy as np\n",
    "\n",
    "# Reemplazar \"SD\" con NaN en la columna 'EDAD'\n",
    "homicidios_victimas['EDAD'] = pd.to_numeric(homicidios_victimas['EDAD'], errors='coerce')\n",
    "\n",
    "# Ahora puedes convertir la columna 'EDAD' a enteros, ignorando los valores NaN\n",
    "homicidios_victimas['EDAD'] = homicidios_victimas['EDAD'].astype('Int64')\n",
    "\n"
   ]
  },
  {
   "cell_type": "code",
   "execution_count": 33,
   "metadata": {},
   "outputs": [
    {
     "data": {
      "image/png": "[encoded data removed]",
      "text/plain": [
       "<Figure size 1000x600 with 1 Axes>"
      ]
     },
     "metadata": {},
     "output_type": "display_data"
    }
   ],
   "source": [
    "# Filtrar por sexo masculino\n",
    "Victimas_Masculinas = homicidios_victimas[homicidios_victimas['SEXO'] == 'MASCULINO']\n",
    "#Filtrar por sexo femenino\n",
    "Victimas_Femeninas = homicidios_victimas[homicidios_victimas['SEXO'] == 'FEMENINO']\n",
    "#Crear histograma separado por sexo\n",
    "\n",
    "plt.figure(figsize=(10,6))\n",
    "plt.hist(Victimas_Masculinas['EDAD'],bins=20, color= 'skyblue',edgecolor='black',alpha=0.5,label='Masculino')\n",
    "plt.hist(Victimas_Femeninas['EDAD'],bins=20,color='pink',edgecolor='black',alpha=0.5,label='Femenino')\n",
    "plt.title=('Distribución de edades de las victimas fatales por sexo')\n",
    "plt.xlabel('Edad')\n",
    "plt.ylabel('cantidad de victimas')\n",
    "plt.legend()\n",
    "plt.grid(False)\n",
    "plt.show()"
   ]
  },
  {
   "cell_type": "markdown",
   "metadata": {},
   "source": [
    "* Voy a profundizar el análisis en la comuna 1"
   ]
  },
  {
   "cell_type": "code",
   "execution_count": 19,
   "metadata": {},
   "outputs": [
    {
     "data": {
      "text/plain": [
       "TIPO_DE_CALLE\n",
       "AVENIDA      429\n",
       "CALLE        136\n",
       "AUTOPISTA     66\n",
       "GRAL PAZ      65\n",
       "Name: count, dtype: int64"
      ]
     },
     "execution_count": 19,
     "metadata": {},
     "output_type": "execute_result"
    }
   ],
   "source": [
    "tipos_de_calle = homicidios_hechos['TIPO_DE_CALLE'].value_counts()\n",
    "tipos_de_calle"
   ]
  },
  {
   "cell_type": "code",
   "execution_count": 20,
   "metadata": {},
   "outputs": [
    {
     "data": {
      "text/plain": [
       "TIPO_DE_CALLE\n",
       "AVENIDA      56\n",
       "CALLE        23\n",
       "AUTOPISTA    11\n",
       "Name: count, dtype: int64"
      ]
     },
     "execution_count": 20,
     "metadata": {},
     "output_type": "execute_result"
    }
   ],
   "source": [
    "# Filtra los datos para la comuna 1\n",
    "df_comuna1 = homicidios_hechos[homicidios_hechos['COMUNA'] == 1]\n",
    "\n",
    "# Cuenta los incidentes por tipo de calle\n",
    "incidentes_por_tipo = df_comuna1['TIPO_DE_CALLE'].value_counts()\n",
    "\n",
    "incidentes_por_tipo\n"
   ]
  },
  {
   "cell_type": "markdown",
   "metadata": {},
   "source": [
    "* Podemos observar que la mayoría de incidentes se han producido en avenidas\n"
   ]
  },
  {
   "cell_type": "markdown",
   "metadata": {},
   "source": [
    "* Voy a hacer algunas transformaciones de datos para poder analizar qué dias y en qué horarios han ocurrido estos accidentes"
   ]
  },
  {
   "cell_type": "code",
   "execution_count": 21,
   "metadata": {},
   "outputs": [
    {
     "name": "stderr",
     "output_type": "stream",
     "text": [
      "C:\\Users\\pocal\\AppData\\Local\\Temp\\ipykernel_1996\\1976922804.py:5: SettingWithCopyWarning: \n",
      "A value is trying to be set on a copy of a slice from a DataFrame.\n",
      "Try using .loc[row_indexer,col_indexer] = value instead\n",
      "\n",
      "See the caveats in the documentation: https://pandas.pydata.org/pandas-docs/stable/user_guide/indexing.html#returning-a-view-versus-a-copy\n",
      "  df_comuna_1['FECHA'] = pd.to_datetime(df_comuna_1['FECHA'])\n",
      "C:\\Users\\pocal\\AppData\\Local\\Temp\\ipykernel_1996\\1976922804.py:8: SettingWithCopyWarning: \n",
      "A value is trying to be set on a copy of a slice from a DataFrame.\n",
      "Try using .loc[row_indexer,col_indexer] = value instead\n",
      "\n",
      "See the caveats in the documentation: https://pandas.pydata.org/pandas-docs/stable/user_guide/indexing.html#returning-a-view-versus-a-copy\n",
      "  df_comuna_1['DIA_DE_LA_SEMANA'] = df_comuna_1['FECHA'].dt.dayofweek\n",
      "C:\\Users\\pocal\\AppData\\Local\\Temp\\ipykernel_1996\\1976922804.py:12: SettingWithCopyWarning: \n",
      "A value is trying to be set on a copy of a slice from a DataFrame.\n",
      "Try using .loc[row_indexer,col_indexer] = value instead\n",
      "\n",
      "See the caveats in the documentation: https://pandas.pydata.org/pandas-docs/stable/user_guide/indexing.html#returning-a-view-versus-a-copy\n",
      "  df_comuna_1['DIA_DE_LA_SEMANA'] = df_comuna_1['DIA_DE_LA_SEMANA'].map(dias_semana)\n"
     ]
    },
    {
     "data": {
      "image/png": "[encoded data removed]",
      "text/plain": [
       "<Figure size 640x480 with 1 Axes>"
      ]
     },
     "metadata": {},
     "output_type": "display_data"
    }
   ],
   "source": [
    "# Filtrar el DataFrame para incluir solo los incidentes en la comuna 1\n",
    "df_comuna_1 = homicidios_hechos[homicidios_hechos['COMUNA'] == 1]\n",
    "\n",
    "# Convierte la columna 'FECHA' a formato datetime si aún no lo está\n",
    "df_comuna_1['FECHA'] = pd.to_datetime(df_comuna_1['FECHA'])\n",
    "\n",
    "# Agrega una nueva columna 'DIA_DE_LA_SEMANA' que contenga el día de la semana\n",
    "df_comuna_1['DIA_DE_LA_SEMANA'] = df_comuna_1['FECHA'].dt.dayofweek\n",
    "\n",
    "# Mapea los números de día de la semana a los nombres de los días\n",
    "dias_semana = {0: 'Lunes', 1: 'Martes', 2: 'Miércoles', 3: 'Jueves', 4: 'Viernes', 5: 'Sábado', 6: 'Domingo'}\n",
    "df_comuna_1['DIA_DE_LA_SEMANA'] = df_comuna_1['DIA_DE_LA_SEMANA'].map(dias_semana)\n",
    "\n",
    "# Contar la cantidad de incidentes por día de la semana\n",
    "incidentes_por_dia = df_comuna_1['DIA_DE_LA_SEMANA'].value_counts()\n",
    "\n",
    "# Ordenar los días de la semana en orden lógico\n",
    "incidentes_por_dia = incidentes_por_dia.reindex(['Lunes', 'Martes', 'Miércoles', 'Jueves', 'Viernes', 'Sábado', 'Domingo'])\n",
    "\n",
    "# Graficar la distribución de incidentes por día de la semana\n",
    "incidentes_por_dia.plot(kind='bar')\n",
    "plt.xlabel('Día de la Semana')\n",
    "plt.ylabel('Cantidad de Incidentes')\n",
    "plt.title('Distribución de Incidentes Viales Fatales por Día de la Semana en la Comuna 1')\n",
    "plt.show()\n"
   ]
  },
  {
   "cell_type": "markdown",
   "metadata": {},
   "source": [
    "* Es llamativo que la mayor cantidad de incidentes se produzcan los días miércoles.\n",
    "\n",
    "* Tráfico de mitad de semana: El miércoles es el día en el que las personas ya han superado el comienzo de la semana laboral y aún no han llegado al final de la misma. Esto podría generar un mayor flujo de tráfico en comparación con los días de inicio o fin de semana, lo que aumenta las posibilidades de accidentes.\n",
    "\n",
    "* Fatiga y estrés: A mitad de semana, las personas pueden estar más fatigadas o estresadas debido a las demandas laborales y personales acumuladas durante los primeros días de la semana. Esto puede llevar a una menor atención al conducir y a un aumento de los errores humanos, lo que contribuye a los incidentes viales.\n",
    "\n",
    "* Actividades de mantenimiento: En algunas ciudades, las autoridades pueden programar actividades de mantenimiento vial o reparaciones en carreteras durante la mitad de la semana, lo que puede provocar cierres de carriles o cambios en las condiciones de conducción que aumenten el riesgo de incidentes.\n",
    "\n",
    "* Comportamiento del conductor: La percepción de que ya se ha superado la mitad de la semana puede llevar a un comportamiento más relajado o menos cauteloso por parte de algunos conductores, lo que aumenta la posibilidad de comportamientos imprudentes en la carretera."
   ]
  },
  {
   "cell_type": "code",
   "execution_count": 22,
   "metadata": {},
   "outputs": [
    {
     "name": "stderr",
     "output_type": "stream",
     "text": [
      "C:\\Users\\pocal\\AppData\\Local\\Temp\\ipykernel_1996\\2539309358.py:5: SettingWithCopyWarning: \n",
      "A value is trying to be set on a copy of a slice from a DataFrame.\n",
      "Try using .loc[row_indexer,col_indexer] = value instead\n",
      "\n",
      "See the caveats in the documentation: https://pandas.pydata.org/pandas-docs/stable/user_guide/indexing.html#returning-a-view-versus-a-copy\n",
      "  df_comuna_1_miercoles['HORA'] = pd.to_datetime(df_comuna_1_miercoles['HORA'], format='%H:%M:%S').dt.hour\n"
     ]
    },
    {
     "data": {
      "image/png": "[encoded data removed]",
      "text/plain": [
       "<Figure size 640x480 with 1 Axes>"
      ]
     },
     "metadata": {},
     "output_type": "display_data"
    }
   ],
   "source": [
    "# Filtrar el DataFrame para incluir solo los incidentes en la comuna 1 y en miércoles\n",
    "df_comuna_1_miercoles = homicidios_hechos[(homicidios_hechos['COMUNA'] == 1) & (homicidios_hechos['FECHA'].dt.dayofweek == 2)]\n",
    "\n",
    "# Convierte la columna 'HORA' a formato datetime si aún no lo está\n",
    "df_comuna_1_miercoles['HORA'] = pd.to_datetime(df_comuna_1_miercoles['HORA'], format='%H:%M:%S').dt.hour\n",
    "\n",
    "# Contar la cantidad de incidentes por hora del día\n",
    "incidentes_por_hora = df_comuna_1_miercoles['HORA'].value_counts()\n",
    "\n",
    "# Ordenar las horas en orden ascendente\n",
    "incidentes_por_hora = incidentes_por_hora.sort_index()\n",
    "\n",
    "# Graficar la distribución de incidentes por hora del día\n",
    "incidentes_por_hora.plot(kind='bar')\n",
    "plt.xlabel('Hora del Día')\n",
    "plt.ylabel('Cantidad de Incidentes')\n",
    "plt.title('Distribución de Incidentes Viales Fatales por Hora del Día en Miércoles en la Comuna 1')\n",
    "plt.show()\n"
   ]
  },
  {
   "cell_type": "markdown",
   "metadata": {},
   "source": [
    "* Viendo los horarios en los que se producen estos accidentes puedo deducir que algunos motivos pueden ser:\n",
    "* * Apertura de museos y galerías de arte: Esto podría atraer a turistas y residentes locales a áreas específicas de la ciudad, lo que aumentaría el tráfico y, por lo tanto, la probabilidad de incidentes viales en esas zonas.\n",
    "\n",
    "* * Inicio de clases en instituciones educativas: Las horas de entrada y salida de las escuelas pueden generar congestión de tráfico en las áreas cercanas, especialmente si hay padres llevando a sus hijos en automóvil.\n",
    "\n",
    "* * Horario de apertura de oficinas gubernamentales y comercios: Esto podría aumentar la actividad en las calles y, por lo tanto, el número de vehículos en circulación, lo que potencialmente aumenta el riesgo de accidentes.\n",
    "\n",
    "* * Celebración de ferias o mercados callejeros: Estos eventos pueden atraer a una gran cantidad de personas y vehículos a áreas específicas de la ciudad, lo que podría aumentar la posibilidad de congestión vial y, en consecuencia, de accidentes.\n",
    "\n",
    "* * Inicio de eventos deportivos: Los eventos deportivos, especialmente aquellos que atraen a grandes multitudes, pueden generar congestión en las vías de acceso y estacionamiento cercanas, lo que aumenta el riesgo de accidentes.\n",
    "\n",
    "* * Horario de almuerzo en restaurantes y cafeterías: El aumento de la actividad en las calles durante la hora del almuerzo puede aumentar el tráfico y, por lo tanto, la probabilidad de incidentes viales, especialmente en áreas comerciales y de negocios.\n"
   ]
  },
  {
   "cell_type": "markdown",
   "metadata": {},
   "source": [
    "* Voy a averiguar cuál es la comuna 0"
   ]
  },
  {
   "cell_type": "code",
   "execution_count": 23,
   "metadata": {},
   "outputs": [
    {
     "data": {
      "text/html": [
       "<div>\n",
       "<style scoped>\n",
       "    .dataframe tbody tr th:only-of-type {\n",
       "        vertical-align: middle;\n",
       "    }\n",
       "\n",
       "    .dataframe tbody tr th {\n",
       "        vertical-align: top;\n",
       "    }\n",
       "\n",
       "    .dataframe thead th {\n",
       "        text-align: right;\n",
       "    }\n",
       "</style>\n",
       "<table border=\"1\" class=\"dataframe\">\n",
       "  <thead>\n",
       "    <tr style=\"text-align: right;\">\n",
       "      <th></th>\n",
       "      <th>ID</th>\n",
       "      <th>N_VICTIMAS</th>\n",
       "      <th>FECHA</th>\n",
       "      <th>AAAA</th>\n",
       "      <th>MM</th>\n",
       "      <th>DD</th>\n",
       "      <th>HORA</th>\n",
       "      <th>HH</th>\n",
       "      <th>LUGAR_DEL_HECHO</th>\n",
       "      <th>TIPO_DE_CALLE</th>\n",
       "      <th>...</th>\n",
       "      <th>Altura</th>\n",
       "      <th>Cruce</th>\n",
       "      <th>Dirección Normalizada</th>\n",
       "      <th>COMUNA</th>\n",
       "      <th>XY (CABA)</th>\n",
       "      <th>pos x</th>\n",
       "      <th>pos y</th>\n",
       "      <th>PARTICIPANTES</th>\n",
       "      <th>VICTIMA</th>\n",
       "      <th>ACUSADO</th>\n",
       "    </tr>\n",
       "  </thead>\n",
       "  <tbody>\n",
       "    <tr>\n",
       "      <th>119</th>\n",
       "      <td>2016-0151</td>\n",
       "      <td>1</td>\n",
       "      <td>2016-11-18</td>\n",
       "      <td>2016</td>\n",
       "      <td>11</td>\n",
       "      <td>18</td>\n",
       "      <td>20:35:00</td>\n",
       "      <td>20</td>\n",
       "      <td>SD</td>\n",
       "      <td>CALLE</td>\n",
       "      <td>...</td>\n",
       "      <td>NaN</td>\n",
       "      <td>NaN</td>\n",
       "      <td>NaN</td>\n",
       "      <td>0</td>\n",
       "      <td>Point (. .)</td>\n",
       "      <td>.</td>\n",
       "      <td>.</td>\n",
       "      <td>PEATON-SD</td>\n",
       "      <td>PEATON</td>\n",
       "      <td>SD</td>\n",
       "    </tr>\n",
       "    <tr>\n",
       "      <th>139</th>\n",
       "      <td>2016-0174</td>\n",
       "      <td>1</td>\n",
       "      <td>2016-12-27</td>\n",
       "      <td>2016</td>\n",
       "      <td>12</td>\n",
       "      <td>27</td>\n",
       "      <td>00:00:00</td>\n",
       "      <td>0</td>\n",
       "      <td>AUTOPISTA 25 DE MAYO</td>\n",
       "      <td>AUTOPISTA</td>\n",
       "      <td>...</td>\n",
       "      <td>NaN</td>\n",
       "      <td>NaN</td>\n",
       "      <td>AUTOPISTA 25 DE MAYO</td>\n",
       "      <td>0</td>\n",
       "      <td>Point (. .)</td>\n",
       "      <td>.</td>\n",
       "      <td>.</td>\n",
       "      <td>SD-SD</td>\n",
       "      <td>SD</td>\n",
       "      <td>SD</td>\n",
       "    </tr>\n",
       "  </tbody>\n",
       "</table>\n",
       "<p>2 rows × 21 columns</p>\n",
       "</div>"
      ],
      "text/plain": [
       "            ID  N_VICTIMAS      FECHA  AAAA  MM  DD      HORA  HH  \\\n",
       "119  2016-0151           1 2016-11-18  2016  11  18  20:35:00  20   \n",
       "139  2016-0174           1 2016-12-27  2016  12  27  00:00:00   0   \n",
       "\n",
       "          LUGAR_DEL_HECHO TIPO_DE_CALLE  ... Altura  Cruce  \\\n",
       "119                    SD         CALLE  ...    NaN    NaN   \n",
       "139  AUTOPISTA 25 DE MAYO     AUTOPISTA  ...    NaN    NaN   \n",
       "\n",
       "    Dirección Normalizada COMUNA    XY (CABA) pos x pos y PARTICIPANTES  \\\n",
       "119                   NaN      0  Point (. .)     .     .     PEATON-SD   \n",
       "139  AUTOPISTA 25 DE MAYO      0  Point (. .)     .     .         SD-SD   \n",
       "\n",
       "    VICTIMA ACUSADO  \n",
       "119  PEATON      SD  \n",
       "139      SD      SD  \n",
       "\n",
       "[2 rows x 21 columns]"
      ]
     },
     "execution_count": 23,
     "metadata": {},
     "output_type": "execute_result"
    }
   ],
   "source": [
    "filas_comuna_0 = homicidios_hechos[homicidios_hechos['COMUNA'] == 0]\n",
    "filas_comuna_0"
   ]
  },
  {
   "cell_type": "markdown",
   "metadata": {},
   "source": [
    "* La comuna 0 son dos entradas en las que no se obtienen muchos datos, podría eliminarla"
   ]
  },
  {
   "cell_type": "markdown",
   "metadata": {},
   "source": [
    "Voy a averiguar el rango etario y el sexo de las victimas"
   ]
  },
  {
   "cell_type": "markdown",
   "metadata": {},
   "source": [
    "## Si comparo estos datos con lesiones, llegaré a la misma conclusión?"
   ]
  },
  {
   "cell_type": "markdown",
   "metadata": {},
   "source": [
    "# Lesiones\n"
   ]
  }
 ],
 "metadata": {
  "kernelspec": {
   "display_name": "Python 3",
   "language": "python",
   "name": "python3"
  },
  "language_info": {
   "codemirror_mode": {
    "name": "ipython",
    "version": 3
   },
   "file_extension": ".py",
   "mimetype": "text/x-python",
   "name": "python",
   "nbconvert_exporter": "python",
   "pygments_lexer": "ipython3",
   "version": "3.11.0"
  }
 },
 "nbformat": 4,
 "nbformat_minor": 2
}
